{
 "cells": [
  {
   "cell_type": "markdown",
   "metadata": {},
   "source": [
    "<div style=\"font-size:18pt; padding-top:20px; text-align:center\"><b>Лабораторная работа 3.</b> Запуск и мониторинг приложений в Spark</div><hr>\n",
    "<div style=\"text-align:right;\">Папулин С.Ю. <span style=\"font-style: italic;font-weight: bold;\">(papulin_bmstu@mail.ru)</span></div>"
   ]
  },
  {
   "cell_type": "markdown",
   "metadata": {},
   "source": [
    "<a name=\"0\"></a>\n",
    "<div><span style=\"font-size:14pt; font-weight:bold\">Содержание</span>\n",
    "    <ol>\n",
    "        <li><a href=\"#1\">Подключение к интерактивной среде и мониторинг выполнения</a>\n",
    "            <ol style = \"list-style-type:lower-alpha\">\n",
    "                <li><a href=\"#1a\">Spark Shell через SSH</a></li>\n",
    "                <li><a href=\"#1b\">Jupyter Notebook для Cloudera</a></li>\n",
    "                <li><a href=\"#1c\">Zeppelin Notebook для EMR AWS</a></li>\n",
    "                <li><a href=\"#1d\">Jupyter Notebook для HDInsight Azure</a></li>\n",
    "            </ol>\n",
    "        </li>\n",
    "        <li><a href=\"#2\">Запуск batch-приложения в Spark</a>\n",
    "            <ol style = \"list-style-type:lower-alpha\">\n",
    "                <li><a href=\"#2a\">Запуск на локальной версии Cloudera</a></li>\n",
    "                <li><a href=\"#2b\">Запуск на кластере EMR AWS</a></li>\n",
    "                <li><a href=\"#2c\">Запуск на кластере HDInsight Azure</a></li>\n",
    "            </ol>\n",
    "        </li>\n",
    "        <li><a href=\"#3\">Источники</a>\n",
    "        </li>\n",
    "    </ol>\n",
    "</div>"
   ]
  },
  {
   "cell_type": "markdown",
   "metadata": {},
   "source": [
    "<div>\n",
    "    <p><b>Цель лабораторной работы</b> - освоить:</p>\n",
    "    <ol>\n",
    "        <li>подключение и запуск интерактивной среды Apache Spark</li>\n",
    "        <li>запуск приложений в Apache Spark</li>\n",
    "        <li>подключение к средствам мониторинга Spark кластера и выполнения приложений</li>\n",
    "    </ol>\n",
    "</div>"
   ]
  },
  {
   "cell_type": "markdown",
   "metadata": {},
   "source": [
    "<a name=\"1\"></a>\n",
    "<div style=\"display:table; width:100%; padding-top:10px; padding-bottom:10px; border-bottom:1px solid lightgrey\">\n",
    "    <div style=\"display:table-row\">\n",
    "        <div style=\"display:table-cell; width:80%; font-size:14pt; font-weight:bold\">1. Подключение к интерактивной среде и мониторинг выполнения</div>\n",
    "    \t<div style=\"display:table-cell; width:20%; text-align:center; background-color:whitesmoke; border:1px solid lightgrey\"><a href=\"#0\">К содержанию</a></div>\n",
    "    </div>\n",
    "</div>"
   ]
  },
  {
   "cell_type": "markdown",
   "metadata": {},
   "source": [
    "<a name = \"1a\"></a>\n",
    "<div style = \"display:table; width:100%\">\n",
    "    <div style = \"display:table-row\">\n",
    "        <div style = \"display:table-cell; width:80%; font-style:italic; font-weight:bold; font-size:12pt\">\n",
    "            a. Spark Shell через SSH\n",
    "        </div>\n",
    "        <div style=\"display:table-cell; border:1px solid lightgrey; width:20%\">\n",
    "            <div style = \"display:table-cell; width:10%; text-align:center; background-color:whitesmoke;\">\n",
    "                <a href=\"#1\">Назад</a>\n",
    "            </div>\n",
    "            <div style = \"display:table-cell; width:10%; text-align:center;\">\n",
    "                <a href=\"#1b\">Далее</a>\n",
    "            </div>\n",
    "        </div>\n",
    "    </div>\n",
    "</div>"
   ]
  },
  {
   "cell_type": "markdown",
   "metadata": {},
   "source": [
    "<p><span style=\"color: darkblue\"><b>ПРЕДУПРЕЖДЕНИЕ!</b></span> Данная тетрадь плохо подходит для интерактивного режима работы со Spark Shell через SSH</p>"
   ]
  },
  {
   "cell_type": "markdown",
   "metadata": {},
   "source": [
    "<p><b>Cloudera</b></p>"
   ]
  },
  {
   "cell_type": "markdown",
   "metadata": {},
   "source": [
    "<p><i><b>Scala</b></i></p>"
   ]
  },
  {
   "cell_type": "code",
   "execution_count": null,
   "metadata": {
    "collapsed": false
   },
   "outputs": [],
   "source": [
    "%%bash\n",
    "CLOUDERA_IP=192.168.42.29\n",
    "\n",
    "ssh $CLOUDERA_IP\n",
    "\n",
    "spark-shell\n",
    "\n",
    "// Код программы\n",
    "\n",
    "val data = Array(1, 2, 3, 4, 5)\n",
    "val rddData = sc.parallelize(data)\n",
    "\n",
    "val rddDataMap = rddData.map(x => (x, 1))\n",
    "\n",
    "val result = rddDataMap.collect()\n",
    "\n",
    "result.foreach(println)\n",
    "\n",
    "// --------------------\n",
    "\n",
    ":quit"
   ]
  },
  {
   "cell_type": "markdown",
   "metadata": {},
   "source": [
    "<p><i><b>Python</b></i></p>\n",
    "<p><span style=\"color: darkred\"><b>ВНИМАНИЕ!</b></span> Не запускается через bash тетради</p>"
   ]
  },
  {
   "cell_type": "code",
   "execution_count": null,
   "metadata": {
    "collapsed": false
   },
   "outputs": [],
   "source": [
    "%%bash\n",
    "CLOUDERA_IP=192.168.42.29\n",
    "\n",
    "ssh $CLOUDERA_IP\n",
    "\n",
    "pyspark\n",
    "\n",
    "data = [1, 2, 3, 4, 5]\n",
    "rddData = sc.parallelize(data)\n",
    "\n",
    "rddDataMap = rddData.map(lambda x: (x, 1))\n",
    "\n",
    "result = rddDataMap.collect()\n",
    "\n",
    "print(result)\n",
    "\n",
    "quit()"
   ]
  },
  {
   "cell_type": "markdown",
   "metadata": {},
   "source": [
    "<p><b><i>Мониторинг кластера и выполнения работ</i></b></p>"
   ]
  },
  {
   "cell_type": "markdown",
   "metadata": {},
   "source": [
    "В файле <b>/etc/spark/conf.dist/spark-env.sh</b> изменим значение параметра STANDALONE_SPARK_MASTER_HOST на имя хоста (например, quickstart.cloudera)"
   ]
  },
  {
   "cell_type": "markdown",
   "metadata": {},
   "source": [
    "<p>Запустим кластер Spark в Standalone режиме</p>"
   ]
  },
  {
   "cell_type": "markdown",
   "metadata": {},
   "source": [
    "<a href=\"https://www.cloudera.com/documentation/enterprise/5-5-x/topics/cdh_ig_spark_configure.html\">Managing Spark Standalone Using the Command Line</a>"
   ]
  },
  {
   "cell_type": "code",
   "execution_count": null,
   "metadata": {
    "collapsed": true
   },
   "outputs": [],
   "source": [
    "cd /usr/lib/spark/sbin\n",
    "./start-master.sh\n",
    "./start-slaves.sh\n",
    "./start-history-server.sh"
   ]
  },
  {
   "cell_type": "markdown",
   "metadata": {},
   "source": [
    "<p>Веб-интерфейс для мониторинга.</p>\n",
    "<p><span style=\"color: darkblue\"><b>ПРЕДУПРЕЖДЕНИЕ!</b></span> Измените IP на свой</p>\n",
    "<p>\n",
    "<a href=\"http://192.168.42.29:18080\">Spark Master Web UI</a><br>\n",
    "<a href=\"http://192.168.42.29:18088\">History Server Web UI</a><br>\n",
    "<a href=\"http://192.168.42.29:4040\">Spark Jobs Web UI</a>\n",
    "</p>"
   ]
  },
  {
   "cell_type": "markdown",
   "metadata": {},
   "source": [
    "<p><b>EMR AWS</b></p>"
   ]
  },
  {
   "cell_type": "markdown",
   "metadata": {},
   "source": [
    "<p><i><b>Scala</b></i></p>"
   ]
  },
  {
   "cell_type": "code",
   "execution_count": null,
   "metadata": {
    "collapsed": false
   },
   "outputs": [],
   "source": [
    "%%bash\n",
    "CLUSTER_DNS=YOUR_CLUSTER_DNS\n",
    "KEY_PATH=YOUR_KEY_PATH.pem\n",
    "\n",
    "ssh -i $KEY_PATH hadoop@$CLUSTER_DNS\n",
    "\n",
    "spark-shell\n",
    "\n",
    "\n",
    ":quit"
   ]
  },
  {
   "cell_type": "markdown",
   "metadata": {},
   "source": [
    "<p><i><b>Python</b></i></p>\n",
    "<p><span style=\"color: darkred\"><b>ВНИМАНИЕ!</b></span> Не запускается через bash тетради</p>"
   ]
  },
  {
   "cell_type": "code",
   "execution_count": null,
   "metadata": {
    "collapsed": false
   },
   "outputs": [],
   "source": [
    "%%bash\n",
    "CLUSTER_DNS=YOUR_CLUSTER_DNS\n",
    "KEY_PATH=YOUR_KEY_PATH.pem\n",
    "\n",
    "ssh -i $KEY_PATH hadoop@$CLUSTER_DNS\n",
    "\n",
    "pyspark\n",
    "\n",
    "\n",
    "quit()"
   ]
  },
  {
   "cell_type": "markdown",
   "metadata": {},
   "source": [
    "<p><b><i>Мониторинг кластера и выполнения работ</i></b></p>"
   ]
  },
  {
   "cell_type": "markdown",
   "metadata": {
    "collapsed": true
   },
   "source": [
    "<p>Веб-интерфейс для мониторинга.</p>\n",
    "<p><span style=\"color: darkblue\"><b>ПРЕДУПРЕЖДЕНИЕ!</b></span> Измените IP на свой</p>\n",
    "<p>\n",
    "<a href=\"http://192.168.42.29:8088/\">YARN Resource Manager Web UI</a><br>\n",
    "<a href=\"http://192.168.42.29:18080\">History Server Web UI</a><br>\n",
    "<a href=\"http://192.168.42.29:4040\">Spark Jobs Web UI</a>\n",
    "<p><span style=\"color: darkblue\"><b>ПРЕДУПРЕЖДЕНИЕ!</b></span> Spark Jobs Web UI доступен только во время выполнения приложения</p>\n",
    "</p>"
   ]
  },
  {
   "cell_type": "markdown",
   "metadata": {},
   "source": [
    "<p><b>HDInsight Azure</b></p>"
   ]
  },
  {
   "cell_type": "code",
   "execution_count": null,
   "metadata": {
    "collapsed": true
   },
   "outputs": [],
   "source": []
  },
  {
   "cell_type": "markdown",
   "metadata": {},
   "source": [
    "<a name = \"1b\"></a>\n",
    "<div style = \"display:table; width:100%\">\n",
    "    <div style = \"display:table-row\">\n",
    "        <div style = \"display:table-cell; width:80%; font-style:italic; font-weight:bold; font-size:12pt\">\n",
    "            b. Jupyter Notebook для Cloudera\n",
    "        </div>\n",
    "        <div style=\"display:table-cell; border:1px solid lightgrey; width:20%\">\n",
    "            <div style = \"display:table-cell; width:10%; text-align:center; background-color:whitesmoke;\">\n",
    "                <a href=\"#1a\">Назад</a>\n",
    "            </div>\n",
    "            <div style = \"display:table-cell; width:10%; text-align:center;\">\n",
    "                <a href=\"#1c\">Далее</a>\n",
    "            </div>\n",
    "        </div>\n",
    "    </div>\n",
    "</div>"
   ]
  },
  {
   "cell_type": "markdown",
   "metadata": {
    "collapsed": true
   },
   "source": [
    "<p>Устанавливаем на узле с Cloudera python2.7> или python 3.x -> устанавоиваем pip -> устанавливаем jupyter</p>"
   ]
  },
  {
   "cell_type": "markdown",
   "metadata": {},
   "source": [
    "Изменяем переменные окружения"
   ]
  },
  {
   "cell_type": "code",
   "execution_count": null,
   "metadata": {
    "collapsed": true
   },
   "outputs": [],
   "source": [
    "%%bash\n",
    "CLOUDERA_IP=192.168.42.29\n",
    "ssh $CLOUDERA_IP\n",
    "\n",
    "PYTHON_PATH=YOUR_PATH_TO_.../bin/python\n",
    "JUPYTER_PATH=YOUR_PATH_TO_.../bin/jupyter\n",
    "\n",
    "export PYSPARK_DRIVER_PYTHON=$JUPYTER_PATH\n",
    "export PYSPARK_DRIVER_PYTHON_OPTS=\"notebook --NotebookApp.open_browser=False --NotebookApp.ip='*' --NotebookApp.port=8880\"\n",
    "export PYSPARK_PYTHON=$PYTHON_PATH"
   ]
  },
  {
   "cell_type": "markdown",
   "metadata": {},
   "source": [
    "<p>Создаем папку для тетрадей и запускаем Spark Shell</p>\n",
    "<p><span style=\"color: darkred\"><b>ВНИМАНИЕ!</b></span> PySpark не запускается через bash тетради. Делайте через терминал</p>"
   ]
  },
  {
   "cell_type": "code",
   "execution_count": null,
   "metadata": {
    "collapsed": true
   },
   "outputs": [],
   "source": [
    "ssh cloudera@CLOUDERA_IP\n",
    "\n",
    "mkdir Notebooks\n",
    "cd Notebooks\n",
    "\n",
    "pyspark\n",
    "\n",
    "#Для завершения работы Jupyter Server - CTRL-C"
   ]
  },
  {
   "cell_type": "markdown",
   "metadata": {},
   "source": [
    "Открываем тетрадь в браузере хоста. Для этого вводим IP Cloudera и порт 8880"
   ]
  },
  {
   "cell_type": "code",
   "execution_count": null,
   "metadata": {
    "collapsed": false
   },
   "outputs": [],
   "source": [
    "CLOUDERA_IP:8880"
   ]
  },
  {
   "cell_type": "markdown",
   "metadata": {},
   "source": [
    "<a href=\"http://192.168.42.29:8880\">Jupyter Notebook</a> <span>(Поменяет на свой IP)</span>"
   ]
  },
  {
   "cell_type": "markdown",
   "metadata": {},
   "source": [
    "<p>Или открываем через перенаправление локального порта на удаленный порт Cloudera</p>"
   ]
  },
  {
   "cell_type": "code",
   "execution_count": null,
   "metadata": {
    "collapsed": false
   },
   "outputs": [],
   "source": [
    "%%bash\n",
    "CLOUDERA_IP=192.168.42.29\n",
    "\n",
    "ssh -N -L 8154:$CLOUDERA_IP:8880 cloudera@$CLOUDERA_IP"
   ]
  },
  {
   "cell_type": "markdown",
   "metadata": {},
   "source": [
    "<p>Вводим в браузере</p>"
   ]
  },
  {
   "cell_type": "markdown",
   "metadata": {},
   "source": [
    "localhost:8154"
   ]
  },
  {
   "cell_type": "markdown",
   "metadata": {},
   "source": [
    "<a href=\"http://localhost:8154\">Jupyter Notebook</a>"
   ]
  },
  {
   "cell_type": "markdown",
   "metadata": {},
   "source": [
    "<p><span style=\"color: darkred\"><b>ВНИМАНИЕ!</b></span> Для продолжения необходимо прервать выполнение в запущенной ячейке</p>"
   ]
  },
  {
   "cell_type": "markdown",
   "metadata": {},
   "source": [
    "<p><span style=\"color: darkgreen\"><b>СОВЕТ!</b></span> Инструкция по запуску Jupyter на кластере Cloudera</p>\n",
    "<p>\n",
    "<a href=\"https://www.cloudera.com/documentation/enterprise/5-6-x/topics/spark_ipython.html\">Running Spark Applications Using IPython and Jupyter Notebooks</a><br>\n",
    "<a href=\"http://jupyter.readthedocs.io/en/latest/install.html\">Installing Jupyter Notebook</a><br>\n",
    "<a href=\"https://www.continuum.io/blog/developer-blog/using-anaconda-pyspark-distributed-language-processing-hadoop-cluster\">USING ANACONDA WITH PYSPARK FOR DISTRIBUTED LANGUAGE PROCESSING ON A HADOOP CLUSTER</a>\n",
    "</p>"
   ]
  },
  {
   "cell_type": "markdown",
   "metadata": {},
   "source": [
    "<a name = \"1c\"></a>\n",
    "<div style = \"display:table; width:100%\">\n",
    "    <div style = \"display:table-row\">\n",
    "        <div style = \"display:table-cell; width:80%; font-style:italic; font-weight:bold; font-size:12pt\">\n",
    "            c. Zeppelin Notebook для EMR AWS\n",
    "        </div>\n",
    "        <div style=\"display:table-cell; border:1px solid lightgrey; width:20%\">\n",
    "            <div style = \"display:table-cell; width:10%; text-align:center; background-color:whitesmoke;\">\n",
    "                <a href=\"#1b\">Назад</a>\n",
    "            </div>\n",
    "            <div style = \"display:table-cell; width:10%; text-align:center;\">\n",
    "                <a href=\"#1d\">Далее</a>\n",
    "            </div>\n",
    "        </div>\n",
    "    </div>\n",
    "</div>"
   ]
  },
  {
   "cell_type": "markdown",
   "metadata": {},
   "source": [
    "<p>Настраиваем доступ к кластеру через AWS CLI</p>"
   ]
  },
  {
   "cell_type": "code",
   "execution_count": null,
   "metadata": {
    "collapsed": true
   },
   "outputs": [],
   "source": [
    "%%bash\n",
    "KEY_ID=YOUR_KEY_ID\n",
    "ACCESS_KEY=YOUR_ACCESS_KEY\n",
    "REGION=YOUR_REGION\n",
    "\n",
    "aws configure set aws_access_key_id $KEY_ID\n",
    "aws configure set aws_secret_access_key $ACCESS_KEY\n",
    "aws configure set region $REGION"
   ]
  },
  {
   "cell_type": "markdown",
   "metadata": {},
   "source": [
    "Создадим S3 бакет для хранения логов"
   ]
  },
  {
   "cell_type": "markdown",
   "metadata": {},
   "source": [
    "<p><i>Если S3 бакет \"aws-mr-jobs-labs\" ещё не создан, то</i></p>"
   ]
  },
  {
   "cell_type": "code",
   "execution_count": null,
   "metadata": {
    "collapsed": true
   },
   "outputs": [],
   "source": [
    "%%bash\n",
    "aws s3 mb s3://aws-mr-jobs-labs/"
   ]
  },
  {
   "cell_type": "markdown",
   "metadata": {},
   "source": [
    "<p><i>Создадим \"папку\" lab3/logs</i></p>"
   ]
  },
  {
   "cell_type": "code",
   "execution_count": null,
   "metadata": {
    "collapsed": false
   },
   "outputs": [],
   "source": [
    "%%bash\n",
    "aws s3api put-object --bucket aws-mr-jobs-labs --key lab3/logs/"
   ]
  },
  {
   "cell_type": "code",
   "execution_count": null,
   "metadata": {
    "collapsed": false
   },
   "outputs": [],
   "source": [
    "%%bash\n",
    "aws s3 ls s3://aws-mr-jobs-labs/lab3 --recursive --human-readable"
   ]
  },
  {
   "cell_type": "markdown",
   "metadata": {},
   "source": [
    "<p>Создаем EMR кластер со Spark и Zeppelin Notebook</p>"
   ]
  },
  {
   "cell_type": "code",
   "execution_count": null,
   "metadata": {
    "collapsed": false
   },
   "outputs": [],
   "source": [
    "%%bash\n",
    "aws emr create-cluster --name \"Spark_Cluster\" \\\n",
    "--release-label emr-5.0.0 \\\n",
    "--applications Name=Spark Name=Zeppelin \\\n",
    "--log-uri s3://aws-mr-jobs-labs/lab3/logs/ \\\n",
    "--use-default-roles \\\n",
    "--instance-groups InstanceGroupType=MASTER,InstanceCount=1,InstanceType=m1.large InstanceGroupType=CORE,InstanceCount=2,InstanceType=m1.large \\\n",
    "--use-default-roles \\\n",
    "--ec2-attributes KeyName=hadoop_keys\n"
   ]
  },
  {
   "cell_type": "markdown",
   "metadata": {},
   "source": [
    "<p>Подключение к Zeppelin Notebook</p>"
   ]
  },
  {
   "cell_type": "markdown",
   "metadata": {},
   "source": [
    "<p><i>Проверка SSH соединения</i></p>"
   ]
  },
  {
   "cell_type": "code",
   "execution_count": null,
   "metadata": {
    "collapsed": false
   },
   "outputs": [],
   "source": [
    "%%bash\n",
    "CLUSTER_DNS=YOUR_CLUSTER_DNS\n",
    "KEY_PATH=YOUR_KEY_PATH.pem\n",
    "\n",
    "ssh -i $KEY_PATH hadoop@$CLUSTER_DNS\n",
    "hdfs version #hdfs version"
   ]
  },
  {
   "cell_type": "markdown",
   "metadata": {},
   "source": [
    "<p><i>Открываем тетрадь в браузере хоста. Для этого вводим публичный IP мастрера с портом 8890</i></p>"
   ]
  },
  {
   "cell_type": "code",
   "execution_count": null,
   "metadata": {
    "collapsed": true
   },
   "outputs": [],
   "source": [
    "PUBLIC_MASTER_IP:8890"
   ]
  },
  {
   "cell_type": "markdown",
   "metadata": {},
   "source": [
    "<a href=\"http://54.194.90.246:8890\">Jupyter Notebook</a> <span>(Поменяет на свой IP)</span>"
   ]
  },
  {
   "cell_type": "markdown",
   "metadata": {},
   "source": [
    "<p><i>Или перенаправляем данные из локального порта, например, 8150 на удаленный узел с портом доступа к Zeppelin 8890</i></p>"
   ]
  },
  {
   "cell_type": "code",
   "execution_count": null,
   "metadata": {
    "collapsed": false
   },
   "outputs": [],
   "source": [
    "%%bash\n",
    "CLUSTER_DNS=YOUR_CLUSTER_DNS\n",
    "KEY_PATH=YOUR_KEY_PATH.pem\n",
    "\n",
    "ssh -i $KEY_PATH -N -L 8155:$CLUSTER_DNS:8890 hadoop@$CLUSTER_DNS"
   ]
  },
  {
   "cell_type": "markdown",
   "metadata": {},
   "source": [
    "<a href=\"http://localhost:8155\">Открыть Zeppelin в браузере</a>"
   ]
  },
  {
   "cell_type": "markdown",
   "metadata": {},
   "source": [
    "<p>Остановка EMR кластера</p>"
   ]
  },
  {
   "cell_type": "markdown",
   "metadata": {},
   "source": [
    "<p><i>Список активных кластеров</i></p>"
   ]
  },
  {
   "cell_type": "code",
   "execution_count": null,
   "metadata": {
    "collapsed": false
   },
   "outputs": [],
   "source": [
    "%%bash\n",
    "\n",
    "aws emr list-clusters --active"
   ]
  },
  {
   "cell_type": "markdown",
   "metadata": {},
   "source": [
    "<p><i>Остановка кластера по ID</i></p>"
   ]
  },
  {
   "cell_type": "code",
   "execution_count": null,
   "metadata": {
    "collapsed": true
   },
   "outputs": [],
   "source": [
    "%%bash\n",
    "CLUSTER_ID=YOUR_CLUSTER_ID\n",
    "\n",
    "aws emr terminate-clusters --cluster-ids $YOUR_CLUSTER_ID"
   ]
  },
  {
   "cell_type": "markdown",
   "metadata": {
    "collapsed": true
   },
   "source": [
    "<a name = \"1d\"></a>\n",
    "<div style = \"display:table; width:100%\">\n",
    "    <div style = \"display:table-row\">\n",
    "        <div style = \"display:table-cell; width:80%; font-style:italic; font-weight:bold; font-size:12pt\">\n",
    "            c. Jupyter Notebook для HDInsight Azure\n",
    "        </div>\n",
    "        <div style=\"display:table-cell; border:1px solid lightgrey; width:20%\">\n",
    "            <div style = \"display:table-cell; width:10%; text-align:center; background-color:whitesmoke;\">\n",
    "                <a href=\"#1c\">Назад</a>\n",
    "            </div>\n",
    "            <div style = \"display:table-cell; width:10%; text-align:center;\">\n",
    "                <a href=\"#2\">Далее</a>\n",
    "            </div>\n",
    "        </div>\n",
    "    </div>\n",
    "</div>"
   ]
  },
  {
   "cell_type": "code",
   "execution_count": null,
   "metadata": {
    "collapsed": true
   },
   "outputs": [],
   "source": []
  },
  {
   "cell_type": "markdown",
   "metadata": {},
   "source": [
    "<a name=\"2\"></a>\n",
    "<div style=\"display:table; width:100%; padding-top:10px; padding-bottom:10px; border-bottom:1px solid lightgrey\">\n",
    "    <div style=\"display:table-row\">\n",
    "        <div style=\"display:table-cell; width:80%; font-size:14pt; font-weight:bold\">2. Запуск batch-приложений в Spark</div>\n",
    "    \t<div style=\"display:table-cell; width:20%; text-align:center; background-color:whitesmoke; border:1px solid lightgrey\"><a href=\"#0\">К содержанию</a></div>\n",
    "    </div>\n",
    "</div>"
   ]
  },
  {
   "cell_type": "markdown",
   "metadata": {
    "collapsed": true
   },
   "source": [
    "<a name = \"2a\"></a>\n",
    "<div style = \"display:table; width:100%\">\n",
    "    <div style = \"display:table-row\">\n",
    "        <div style = \"display:table-cell; width:80%; font-style:italic; font-weight:bold; font-size:12pt\">\n",
    "            a. Запуск на локальной версии Cloudera\n",
    "        </div>\n",
    "        <div style=\"display:table-cell; border:1px solid lightgrey; width:20%\">\n",
    "            <div style = \"display:table-cell; width:10%; text-align:center; background-color:whitesmoke;\">\n",
    "                <a href=\"#2\">Назад</a>\n",
    "            </div>\n",
    "            <div style = \"display:table-cell; width:10%; text-align:center;\">\n",
    "                <a href=\"#2b\">Далее</a>\n",
    "            </div>\n",
    "        </div>\n",
    "    </div>\n",
    "</div>"
   ]
  },
  {
   "cell_type": "code",
   "execution_count": null,
   "metadata": {
    "collapsed": true
   },
   "outputs": [],
   "source": []
  },
  {
   "cell_type": "markdown",
   "metadata": {},
   "source": [
    "<a name = \"2b\"></a>\n",
    "<div style = \"display:table; width:100%\">\n",
    "    <div style = \"display:table-row\">\n",
    "        <div style = \"display:table-cell; width:80%; font-style:italic; font-weight:bold; font-size:12pt\">\n",
    "            b. Запуск на кластере EMR AWS\n",
    "        </div>\n",
    "        <div style=\"display:table-cell; border:1px solid lightgrey; width:20%\">\n",
    "            <div style = \"display:table-cell; width:10%; text-align:center; background-color:whitesmoke;\">\n",
    "                <a href=\"#2a\">Назад</a>\n",
    "            </div>\n",
    "            <div style = \"display:table-cell; width:10%; text-align:center;\">\n",
    "                <a href=\"#2c\">Далее</a>\n",
    "            </div>\n",
    "        </div>\n",
    "    </div>\n",
    "</div>"
   ]
  },
  {
   "cell_type": "code",
   "execution_count": null,
   "metadata": {
    "collapsed": true
   },
   "outputs": [],
   "source": []
  },
  {
   "cell_type": "markdown",
   "metadata": {},
   "source": [
    "<a name = \"2c\"></a>\n",
    "<div style = \"display:table; width:100%\">\n",
    "    <div style = \"display:table-row\">\n",
    "        <div style = \"display:table-cell; width:80%; font-style:italic; font-weight:bold; font-size:12pt\">\n",
    "            c. Запуск на кластере HDInsight Azure\n",
    "        </div>\n",
    "        <div style=\"display:table-cell; border:1px solid lightgrey; width:20%\">\n",
    "            <div style = \"display:table-cell; width:10%; text-align:center; background-color:whitesmoke;\">\n",
    "                <a href=\"#2b\">Назад</a>\n",
    "            </div>\n",
    "            <div style = \"display:table-cell; width:10%; text-align:center;\">\n",
    "                <a href=\"#2d\">Далее</a>\n",
    "            </div>\n",
    "        </div>\n",
    "    </div>\n",
    "</div>"
   ]
  },
  {
   "cell_type": "code",
   "execution_count": null,
   "metadata": {
    "collapsed": true
   },
   "outputs": [],
   "source": []
  }
 ],
 "metadata": {
  "kernelspec": {
   "display_name": "Python 3",
   "language": "python",
   "name": "python3"
  },
  "language_info": {
   "codemirror_mode": {
    "name": "ipython",
    "version": 3
   },
   "file_extension": ".py",
   "mimetype": "text/x-python",
   "name": "python",
   "nbconvert_exporter": "python",
   "pygments_lexer": "ipython3",
   "version": "3.4.3"
  }
 },
 "nbformat": 4,
 "nbformat_minor": 1
}
