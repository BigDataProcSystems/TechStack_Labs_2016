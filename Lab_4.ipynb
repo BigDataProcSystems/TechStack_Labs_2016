{
 "cells": [
  {
   "cell_type": "markdown",
   "metadata": {},
   "source": [
    "<div style=\"font-size:18pt; padding-top:20px; text-align:center\">Лабораторная работа 4. <b>Основные операции над RDD в </b> <span style=\"font-weight:bold; color:green\">Spark</span></div><hr>\n",
    "<div style=\"text-align:right;\">Папулин С.Ю. <span style=\"font-style: italic;font-weight: bold;\">(papulin_hse@mail.ru)</span></div>"
   ]
  },
  {
   "cell_type": "markdown",
   "metadata": {},
   "source": [
    "<a name=\"0\"></a>\n",
    "<div><span style=\"font-size:14pt; font-weight:bold\">Содержание</span>\n",
    "    <ol>\n",
    "        <li><a href=\"#1\">Коллекция данных</a>\n",
    "            <ol style = \"list-style-type:lower-alpha\">\n",
    "                <li><a href=\"#1a\">Трансформации</a></li>\n",
    "                <li><a href=\"#1b\">Действия</a></li>\n",
    "                <li><a href=\"#1c\">Примеры</a></li>\n",
    "            </ol>\n",
    "        </li>\n",
    "        <li><a href=\"#2\">Коллекции данных Ключ-Значение</a>\n",
    "            <ol style = \"list-style-type:lower-alpha\">\n",
    "                <li><a href=\"#2a\">Трансформации</a></li>\n",
    "                <li><a href=\"#2b\">Действия</a></li>\n",
    "                <li><a href=\"#2c\">Примеры</a></li>\n",
    "            </ol>\n",
    "        </li>\n",
    "        <li><a href=\"#3\">Источники</a>\n",
    "        </li>\n",
    "    </ol>\n",
    "</div>"
   ]
  },
  {
   "cell_type": "markdown",
   "metadata": {},
   "source": [
    "<p><b>Инициализация</b></p>"
   ]
  },
  {
   "cell_type": "code",
   "execution_count": null,
   "metadata": {
    "collapsed": true
   },
   "outputs": [],
   "source": [
    "import pyspark"
   ]
  },
  {
   "cell_type": "markdown",
   "metadata": {},
   "source": [
    "<p>Создание контекста</p>"
   ]
  },
  {
   "cell_type": "code",
   "execution_count": null,
   "metadata": {
    "collapsed": false
   },
   "outputs": [],
   "source": [
    "#Инициализация SparkContext\n",
    "sc = pyspark.SparkContext()"
   ]
  },
  {
   "cell_type": "markdown",
   "metadata": {},
   "source": [
    "<a name=\"1\"></a>\n",
    "<div style=\"display:table; width:100%; padding-top:10px; padding-bottom:10px; border-bottom:1px solid lightgrey\">\n",
    "    <div style=\"display:table-row\">\n",
    "        <div style=\"display:table-cell; width:80%; font-size:14pt; font-weight:bold\">1. Коллекция данных</div>\n",
    "    \t<div style=\"display:table-cell; width:20%; text-align:center; background-color:whitesmoke; border:1px solid lightgrey\"><a href=\"#0\">К содержанию</a></div>\n",
    "    </div>\n",
    "</div>"
   ]
  },
  {
   "cell_type": "markdown",
   "metadata": {},
   "source": [
    "<a name = \"1a\"></a>\n",
    "<div style = \"display:table; width:100%\">\n",
    "    <div style = \"display:table-row\">\n",
    "        <div style = \"display:table-cell; width:80%; font-style:italic; font-weight:bold; font-size:12pt\">\n",
    "            a. Трансформации\n",
    "        </div>\n",
    "        <div style=\"display:table-cell; border:1px solid lightgrey; width:20%\">\n",
    "            <div style = \"display:table-cell; width:10%; text-align:center; background-color:whitesmoke;\">\n",
    "                <a href=\"#1\">Назад</a>\n",
    "            </div>\n",
    "            <div style = \"display:table-cell; width:10%; text-align:center;\">\n",
    "                <a href=\"#1b\">Далее</a>\n",
    "            </div>\n",
    "        </div>\n",
    "    </div>\n",
    "</div>"
   ]
  },
  {
   "cell_type": "markdown",
   "metadata": {},
   "source": [
    "<p>Создание <b><i>RDD</i></b> из массива данных и вывод с использованием <b><i>collect</i></b></p>"
   ]
  },
  {
   "cell_type": "code",
   "execution_count": null,
   "metadata": {
    "collapsed": true
   },
   "outputs": [],
   "source": [
    "#Исходный массив данные\n",
    "data = [1, 2, 3, 4, 5]"
   ]
  },
  {
   "cell_type": "code",
   "execution_count": null,
   "metadata": {
    "collapsed": false
   },
   "outputs": [],
   "source": [
    "#Создание RDD - распределение данных по workerам\n",
    "data_rdd = sc.parallelize(data)\n",
    "data_rdd"
   ]
  },
  {
   "cell_type": "code",
   "execution_count": null,
   "metadata": {
    "collapsed": false
   },
   "outputs": [],
   "source": [
    "#Сбор данных из RDD на driver'е\n",
    "data_rdd.collect()"
   ]
  },
  {
   "cell_type": "markdown",
   "metadata": {},
   "source": [
    "<p>Создание <b><i>RDD</i></b> из текстового файла и вывод с использованием <b><i>collect</i></b></p>"
   ]
  },
  {
   "cell_type": "code",
   "execution_count": null,
   "metadata": {
    "collapsed": true
   },
   "outputs": [],
   "source": [
    "#Путь к исходному файлу\n",
    "file_path = \"my_text_file.txt\""
   ]
  },
  {
   "cell_type": "code",
   "execution_count": null,
   "metadata": {
    "collapsed": false
   },
   "outputs": [],
   "source": [
    "#Создание RDD - распределение данных по workerам\n",
    "data_rdd = sc.textFile(file_path)\n",
    "data_rdd"
   ]
  },
  {
   "cell_type": "code",
   "execution_count": null,
   "metadata": {
    "collapsed": false
   },
   "outputs": [],
   "source": [
    "#Сбор данных из RDD на driver'е\n",
    "data_rdd.collect()"
   ]
  },
  {
   "cell_type": "markdown",
   "metadata": {},
   "source": [
    "<p>Использование <b><i>map</i></b> для массива данных</p>"
   ]
  },
  {
   "cell_type": "code",
   "execution_count": null,
   "metadata": {
    "collapsed": true
   },
   "outputs": [],
   "source": [
    "data = [1, 2, 3, 4, 5]\n",
    "data_rdd = sc.parallelize(data)"
   ]
  },
  {
   "cell_type": "code",
   "execution_count": null,
   "metadata": {
    "collapsed": false
   },
   "outputs": [],
   "source": [
    "#Увеличение значений RDD на 1\n",
    "data_map_rdd = data_rdd.map(lambda x: x + 1)"
   ]
  },
  {
   "cell_type": "code",
   "execution_count": null,
   "metadata": {
    "collapsed": false
   },
   "outputs": [],
   "source": [
    "#Сбор данных из RDD на driver'е\n",
    "data_map_rdd.collect()"
   ]
  },
  {
   "cell_type": "markdown",
   "metadata": {},
   "source": [
    "<p>Использование <b><i>flatMap</i></b> для массива данных</p>"
   ]
  },
  {
   "cell_type": "code",
   "execution_count": null,
   "metadata": {
    "collapsed": true
   },
   "outputs": [],
   "source": [
    "#Исходный массив данные\n",
    "dataFile = \"TextFile.txt\""
   ]
  },
  {
   "cell_type": "code",
   "execution_count": null,
   "metadata": {
    "collapsed": true
   },
   "outputs": [],
   "source": [
    "#Создание RDD - распределение данных по workerам\n",
    "data_rdd = sc.textFile(dataFile)"
   ]
  },
  {
   "cell_type": "code",
   "execution_count": null,
   "metadata": {
    "collapsed": false
   },
   "outputs": [],
   "source": [
    "#Сбор данных из RDD на driver'е\n",
    "data_rdd.collect()"
   ]
  },
  {
   "cell_type": "code",
   "execution_count": null,
   "metadata": {
    "collapsed": false
   },
   "outputs": [],
   "source": [
    "data_map_rdd = data_rdd.map(lambda x: x.split(\" \"))\n",
    "data_map_rdd.collect()"
   ]
  },
  {
   "cell_type": "code",
   "execution_count": null,
   "metadata": {
    "collapsed": false
   },
   "outputs": [],
   "source": [
    "data_flatmap_rdd = data_rdd.flatMap(lambda x: x.split(\" \"))\n",
    "data_flatmap_rdd.collect()"
   ]
  },
  {
   "cell_type": "markdown",
   "metadata": {},
   "source": [
    "<p>Использование <b>filter</b></p>"
   ]
  },
  {
   "cell_type": "code",
   "execution_count": null,
   "metadata": {
    "collapsed": false
   },
   "outputs": [],
   "source": [
    "data = [1, 2, 3, 4, 5, 6, 7]\n",
    "data_rdd = sc.parallelize(data)\n",
    "data_filter_rdd = data_rdd.filter(lambda x: x % 2 == 0)\n",
    "\n",
    "data_filter_rdd.collect()"
   ]
  },
  {
   "cell_type": "markdown",
   "metadata": {},
   "source": [
    "<p>Использование <b>sortBy</b></p>"
   ]
  },
  {
   "cell_type": "code",
   "execution_count": null,
   "metadata": {
    "collapsed": true
   },
   "outputs": [],
   "source": [
    "data = [\"f\", \"a\", \"h\", \"b\", \"c\"]\n",
    "\n",
    "data_rdd = sc.parallelize(data)\n",
    "\n",
    "data_sortby_rdd = data_rdd.sortBy(lambda x: x, ascending=False, numPartitions=3)\n",
    "data_sortby_rdd.collect()"
   ]
  },
  {
   "cell_type": "markdown",
   "metadata": {},
   "source": [
    "<p>Использование <b>sample</b></p>"
   ]
  },
  {
   "cell_type": "code",
   "execution_count": null,
   "metadata": {
    "collapsed": false
   },
   "outputs": [],
   "source": [
    "#Выборка без возврата\n",
    "data = [1, 2, 3, 4, 5, 6, 7]\n",
    "data_rdd = sc.parallelize(data)\n",
    "data_sample_rdd = data_rdd.sample(withReplacement=False, fraction=0.8) #seed=\n",
    "\n",
    "data_sample_rdd.collect()"
   ]
  },
  {
   "cell_type": "code",
   "execution_count": null,
   "metadata": {
    "collapsed": false
   },
   "outputs": [],
   "source": [
    "#Выборка с возвратом\n",
    "data_sample_repl_rdd = data_rdd.sample(withReplacement=True, fraction=0.8) #seed=\n",
    "\n",
    "data_sample_repl_rdd.collect()"
   ]
  },
  {
   "cell_type": "markdown",
   "metadata": {},
   "source": [
    "<p>Использование <b>union</b></p>"
   ]
  },
  {
   "cell_type": "code",
   "execution_count": null,
   "metadata": {
    "collapsed": false
   },
   "outputs": [],
   "source": [
    "data_1 = [1, 2, 3, 4]\n",
    "data_2 = [3, 4, 5, 6]\n",
    "\n",
    "data1_rdd = sc.parallelize(data_1)\n",
    "data2_rdd = sc.parallelize(data_2)\n",
    "\n",
    "data_union_rdd = data1_rdd.union(data2_rdd)\n",
    "\n",
    "data_union_rdd.collect()"
   ]
  },
  {
   "cell_type": "markdown",
   "metadata": {},
   "source": [
    "<p>Использование <b>intersection</b></p>"
   ]
  },
  {
   "cell_type": "code",
   "execution_count": null,
   "metadata": {
    "collapsed": false
   },
   "outputs": [],
   "source": [
    "data_1 = [1, 2, 3, 4]\n",
    "data_2 = [3, 4, 5, 6]\n",
    "\n",
    "data1_rdd = sc.parallelize(data_1)\n",
    "data2_rdd = sc.parallelize(data_2)\n",
    "\n",
    "data_intersection_rdd = data1_rdd.intersection(data2_rdd)\n",
    "\n",
    "data_intersection_rdd.collect()"
   ]
  },
  {
   "cell_type": "markdown",
   "metadata": {},
   "source": [
    "<p>Использование <b>distinct</b></p>"
   ]
  },
  {
   "cell_type": "code",
   "execution_count": null,
   "metadata": {
    "collapsed": false
   },
   "outputs": [],
   "source": [
    "data = [1, 2, 2, 4, 4, 6, 7]\n",
    "data_rdd = sc.parallelize(data)\n",
    "data_distinct_rdd = data_rdd.distinct()\n",
    "\n",
    "data_distinct_rdd.collect()"
   ]
  },
  {
   "cell_type": "markdown",
   "metadata": {},
   "source": [
    "<b>mapPartitions</b>"
   ]
  },
  {
   "cell_type": "code",
   "execution_count": null,
   "metadata": {
    "collapsed": true
   },
   "outputs": [],
   "source": [
    "data = [1, 2, 3, 4, 5, 6, 7, 8, 9]\n",
    "\n",
    "def funct(partition):\n",
    "    part = list()\n",
    "    for record in partition:\n",
    "        part.append(record)\n",
    "        return [part]\n",
    "\n",
    "data_rdd = sc.parallelize(data, 3)\n",
    "data_mappart_rdd = data_rdd.mapPartitions(funct)\n",
    "data_mappart_rdd.collect()"
   ]
  },
  {
   "cell_type": "markdown",
   "metadata": {},
   "source": [
    "<b>mapPartitionsWithIndex</b>"
   ]
  },
  {
   "cell_type": "code",
   "execution_count": null,
   "metadata": {
    "collapsed": true
   },
   "outputs": [],
   "source": [
    "data = [1, 2, 3, 4, 5, 6, 7, 8, 9]\n",
    "\n",
    "def funct(part_id, partition):\n",
    "    for record in partition:\n",
    "        yield part_id, record\n",
    "\n",
    "data_rdd = sc.parallelize(data, 3)\n",
    "data_mappart_rdd = data_rdd.mapPartitionsWithIndex(funct)\n",
    "data_mappart_rdd.collect()"
   ]
  },
  {
   "cell_type": "markdown",
   "metadata": {},
   "source": [
    "<b>cartesian</b>"
   ]
  },
  {
   "cell_type": "code",
   "execution_count": null,
   "metadata": {
    "collapsed": false
   },
   "outputs": [],
   "source": [
    "data1 = [1, 2, 3, 4]\n",
    "data2 = [\"a\", \"b\", \"c\", \"d\"]\n",
    "\n",
    "data1_rdd = sc.parallelize(data1, 2)\n",
    "data2_rdd = sc.parallelize(data2, 2)\n",
    "\n",
    "data_cartesian_rdd = data1_rdd.cartesian(data2_rdd)\n",
    "\n",
    "data_cartesian_rdd.collect()"
   ]
  },
  {
   "cell_type": "markdown",
   "metadata": {},
   "source": [
    "<b>glom</b>"
   ]
  },
  {
   "cell_type": "code",
   "execution_count": null,
   "metadata": {
    "collapsed": true
   },
   "outputs": [],
   "source": [
    "data = [1, 2, 3, 4, 5, 6, 7, 8, 9]\n",
    "\n",
    "data_rdd = sc.parallelize(data, 4)\n",
    "data_rdd.glom().collect()"
   ]
  },
  {
   "cell_type": "markdown",
   "metadata": {},
   "source": [
    "<b>coalesce</b>"
   ]
  },
  {
   "cell_type": "code",
   "execution_count": null,
   "metadata": {
    "collapsed": false
   },
   "outputs": [],
   "source": [
    "data_coarse_rdd = data_rdd.coalesce(2)\n",
    "data_coarse_rdd.glom().collect()"
   ]
  },
  {
   "cell_type": "markdown",
   "metadata": {},
   "source": [
    "<b>repartition</b>"
   ]
  },
  {
   "cell_type": "code",
   "execution_count": null,
   "metadata": {
    "collapsed": false
   },
   "outputs": [],
   "source": [
    "data = [1, 2, 3, 4, 5, 6, 7, 8, 9]\n",
    "\n",
    "data_rdd = sc.parallelize(data, 2)\n",
    "data_rdd.glom().collect()"
   ]
  },
  {
   "cell_type": "code",
   "execution_count": null,
   "metadata": {
    "collapsed": false
   },
   "outputs": [],
   "source": [
    "data_repart_incr_rdd = data_rdd.repartition(4)\n",
    "data_repart_incr_rdd.glom().collect()"
   ]
  },
  {
   "cell_type": "markdown",
   "metadata": {},
   "source": [
    "<a name = \"1b\"></a>\n",
    "<div style = \"display:table; width:100%\">\n",
    "    <div style = \"display:table-row\">\n",
    "        <div style = \"display:table-cell; width:80%; font-style:italic; font-weight:bold; font-size:12pt\">\n",
    "            b. Действия\n",
    "        </div>\n",
    "        <div style=\"display:table-cell; border:1px solid lightgrey; width:20%\">\n",
    "            <div style = \"display:table-cell; width:10%; text-align:center; background-color:whitesmoke;\">\n",
    "                <a href=\"#1a\">Назад</a>\n",
    "            </div>\n",
    "            <div style = \"display:table-cell; width:10%; text-align:center;\">\n",
    "                <a href=\"#1c\">Далее</a>\n",
    "            </div>\n",
    "        </div>\n",
    "    </div>\n",
    "</div>"
   ]
  },
  {
   "cell_type": "markdown",
   "metadata": {},
   "source": [
    "<b>reduce</b>"
   ]
  },
  {
   "cell_type": "code",
   "execution_count": null,
   "metadata": {
    "collapsed": false
   },
   "outputs": [],
   "source": [
    "data = [1, 2, 3, 4, 5, 6, 7, 8, 9]\n",
    "\n",
    "data_rdd = sc.parallelize(data, 4)\n",
    "\n",
    "data_reduce = data_rdd.reduce(lambda x, y: x + y)\n",
    "data_reduce"
   ]
  },
  {
   "cell_type": "code",
   "execution_count": null,
   "metadata": {
    "collapsed": true
   },
   "outputs": [],
   "source": [
    "def summ(x, y):\n",
    "    return x + y\n",
    "\n",
    "data_reduce = data_rdd.reduce(summ)\n",
    "data_reduce"
   ]
  },
  {
   "cell_type": "markdown",
   "metadata": {},
   "source": [
    "<b>fold</b>"
   ]
  },
  {
   "cell_type": "code",
   "execution_count": null,
   "metadata": {
    "collapsed": true
   },
   "outputs": [],
   "source": []
  },
  {
   "cell_type": "markdown",
   "metadata": {},
   "source": [
    "<b>count</b>"
   ]
  },
  {
   "cell_type": "code",
   "execution_count": null,
   "metadata": {
    "collapsed": true
   },
   "outputs": [],
   "source": [
    "data = [1, 2, 3, 4, 5, 6, 7, 8, 9]\n",
    "\n",
    "data_rdd = sc.parallelize(data, 4)\n",
    "\n",
    "data_count = data_rdd.count()\n",
    "data_count"
   ]
  },
  {
   "cell_type": "markdown",
   "metadata": {},
   "source": [
    "<p>Использование <b>countByValue</b></p>"
   ]
  },
  {
   "cell_type": "code",
   "execution_count": null,
   "metadata": {
    "collapsed": false
   },
   "outputs": [],
   "source": [
    "pers_purchases = [\"car\", \"hotel\", \"smartphone\", \"laptop\", \"car\", \"laptop\", \"laptop\"]\n",
    "pers_purchases_rdd = sc.parallelize(pers_purchases, 2)\n",
    "\n",
    "count_value = pers_purchases_rdd.countByValue()\n",
    "count_value"
   ]
  },
  {
   "cell_type": "markdown",
   "metadata": {},
   "source": [
    "<b>first</b>"
   ]
  },
  {
   "cell_type": "code",
   "execution_count": null,
   "metadata": {
    "collapsed": true
   },
   "outputs": [],
   "source": [
    "data = [1, 2, 3, 4, 5, 6, 7, 8, 9]\n",
    "\n",
    "data_rdd = sc.parallelize(data, 4)\n",
    "\n",
    "data_first = data_rdd.first()\n",
    "data_first"
   ]
  },
  {
   "cell_type": "markdown",
   "metadata": {},
   "source": [
    "<b>take</b>"
   ]
  },
  {
   "cell_type": "code",
   "execution_count": null,
   "metadata": {
    "collapsed": true
   },
   "outputs": [],
   "source": [
    "data = [1, 2, 3, 4, 5, 6, 7, 8, 9]\n",
    "\n",
    "data_rdd = sc.parallelize(data, 4)\n",
    "\n",
    "data_take = data_rdd.take(5)\n",
    "data_take"
   ]
  },
  {
   "cell_type": "markdown",
   "metadata": {},
   "source": [
    "<b>takeSample</b>"
   ]
  },
  {
   "cell_type": "code",
   "execution_count": null,
   "metadata": {
    "collapsed": true
   },
   "outputs": [],
   "source": [
    "data = [1, 2, 3, 4, 5, 6, 7, 8, 9]\n",
    "\n",
    "data_rdd = sc.parallelize(data, 4)\n",
    "\n",
    "data_take_sample = data_rdd.takeSample(withReplacement=False, num=5) #seed=\n",
    "data_take_sample"
   ]
  },
  {
   "cell_type": "markdown",
   "metadata": {},
   "source": [
    "<b>takeOrdered</b>"
   ]
  },
  {
   "cell_type": "code",
   "execution_count": null,
   "metadata": {
    "collapsed": true
   },
   "outputs": [],
   "source": [
    "data = [5, 2, 6, 4, 1, 3, 7, 9, 8]\n",
    "\n",
    "data_rdd = sc.parallelize(data, 4)\n",
    "data_take_desc_ordered = data_rdd.takeOrdered(num=4, key=lambda x: -x)\n",
    "data_take_desc_ordered"
   ]
  },
  {
   "cell_type": "code",
   "execution_count": null,
   "metadata": {
    "collapsed": true
   },
   "outputs": [],
   "source": [
    "data_take_asc_ordered = data_rdd.takeOrdered(num=4, key=lambda x: x)\n",
    "data_take_asc_ordered"
   ]
  },
  {
   "cell_type": "markdown",
   "metadata": {},
   "source": [
    "<b>aggregate</b>"
   ]
  },
  {
   "cell_type": "code",
   "execution_count": null,
   "metadata": {
    "collapsed": true
   },
   "outputs": [],
   "source": [
    "data = [1, 2, 3, 4, 5, 6, 7, 8, 9]\n",
    "data_rdd = sc.parallelize(data, 2)\n",
    "\n",
    "data_agg = data_rdd.aggregate((0, 0),\n",
    "                              (lambda x, value: (x[0] + value, x[1] + 1)),\n",
    "                              (lambda x, y: (x[0] + y[0], x[1] + y[1])))\n",
    "data_agg"
   ]
  },
  {
   "cell_type": "markdown",
   "metadata": {},
   "source": [
    "<b>saveAsTextFile</b>"
   ]
  },
  {
   "cell_type": "code",
   "execution_count": null,
   "metadata": {
    "collapsed": true
   },
   "outputs": [],
   "source": [
    "input_file_path = \"my_text_file.txt\"\n",
    "output_file_path = \"my_new_text_file.txt\" "
   ]
  },
  {
   "cell_type": "code",
   "execution_count": null,
   "metadata": {
    "collapsed": false
   },
   "outputs": [],
   "source": [
    "data_file_rdd = sc.textFile(input_file_path, 2)\n",
    "\n",
    "data_map_rdd = data_file_rdd.flatMap(lambda x: x.split())\n",
    "\n",
    "data_map_rdd.saveAsTextFile(output_file_path)"
   ]
  },
  {
   "cell_type": "markdown",
   "metadata": {},
   "source": [
    "<a name = \"1c\"></a>\n",
    "<div style = \"display:table; width:100%\">\n",
    "    <div style = \"display:table-row\">\n",
    "        <div style = \"display:table-cell; width:80%; font-style:italic; font-weight:bold; font-size:12pt\">\n",
    "            c. Примеры\n",
    "        </div>\n",
    "        <div style=\"display:table-cell; border:1px solid lightgrey; width:20%\">\n",
    "            <div style = \"display:table-cell; width:10%; text-align:center; background-color:whitesmoke;\">\n",
    "                <a href=\"#1b\">Назад</a>\n",
    "            </div>\n",
    "            <div style = \"display:table-cell; width:10%; text-align:center;\">\n",
    "                <a href=\"#2\">Далее</a>\n",
    "            </div>\n",
    "        </div>\n",
    "    </div>\n",
    "</div>"
   ]
  },
  {
   "cell_type": "markdown",
   "metadata": {},
   "source": [
    "<p>Пример <b>WordCount</b></p>"
   ]
  },
  {
   "cell_type": "code",
   "execution_count": null,
   "metadata": {
    "collapsed": false
   },
   "outputs": [],
   "source": [
    "data_map_pair_rdd = data_flatmap_rdd.map(lambda x: (x, 1))\n",
    "#data_map_pair_rdd.collect()"
   ]
  },
  {
   "cell_type": "code",
   "execution_count": null,
   "metadata": {
    "collapsed": false
   },
   "outputs": [],
   "source": [
    "data_map_pair_reduce_rdd = data_map_pair_rdd.reduceByKey(lambda x1, x2: x1+x2)\n",
    "data_map_pair_reduce_rdd.collect()"
   ]
  },
  {
   "cell_type": "markdown",
   "metadata": {},
   "source": [
    "<a name=\"2\"></a>\n",
    "<div style=\"display:table; width:100%; padding-top:10px; padding-bottom:10px; border-bottom:1px solid lightgrey\">\n",
    "    <div style=\"display:table-row\">\n",
    "        <div style=\"display:table-cell; width:80%; font-size:14pt; font-weight:bold\">2. Коллекция данных Ключ-Значение</div>\n",
    "    \t<div style=\"display:table-cell; width:20%; text-align:center; background-color:whitesmoke; border:1px solid lightgrey\"><a href=\"#0\">К содержанию</a></div>\n",
    "    </div>\n",
    "</div>"
   ]
  },
  {
   "cell_type": "markdown",
   "metadata": {},
   "source": [
    "<a name = \"2a\"></a>\n",
    "<div style = \"display:table; width:100%\">\n",
    "    <div style = \"display:table-row\">\n",
    "        <div style = \"display:table-cell; width:80%; font-style:italic; font-weight:bold; font-size:12pt\">\n",
    "            a. Трансформации\n",
    "        </div>\n",
    "        <div style=\"display:table-cell; border:1px solid lightgrey; width:20%\">\n",
    "            <div style = \"display:table-cell; width:10%; text-align:center; background-color:whitesmoke;\">\n",
    "                <a href=\"#2\">Назад</a>\n",
    "            </div>\n",
    "            <div style = \"display:table-cell; width:10%; text-align:center;\">\n",
    "                <a href=\"#2b\">Далее</a>\n",
    "            </div>\n",
    "        </div>\n",
    "    </div>\n",
    "</div>"
   ]
  },
  {
   "cell_type": "markdown",
   "metadata": {},
   "source": [
    "<b>groupByKey</b>"
   ]
  },
  {
   "cell_type": "code",
   "execution_count": null,
   "metadata": {
    "collapsed": false
   },
   "outputs": [],
   "source": [
    "purchases = [(1, \"car\"), (1, \"hotel\"), (1, \"smartphone\"), \n",
    "             (1, \"laptop\"), (2, \"TV\"), (2, \"car\"), \n",
    "             (3, \"laptop\"), (3, \"laptop\"), (3, \"hotel\")]\n",
    "\n",
    "purchases_rdd = sc.parallelize(purchases, 2)\n",
    "\n",
    "groupByKey_rdd = purchases_rdd.groupByKey()\n",
    "groupByKey_rdd.collect()"
   ]
  },
  {
   "cell_type": "code",
   "execution_count": null,
   "metadata": {
    "collapsed": false
   },
   "outputs": [],
   "source": [
    "[(k, list(v)) for k, v in groupByKey_rdd.collect()]"
   ]
  },
  {
   "cell_type": "markdown",
   "metadata": {},
   "source": [
    "<b>reduceByKey</b>"
   ]
  },
  {
   "cell_type": "code",
   "execution_count": null,
   "metadata": {
    "collapsed": false
   },
   "outputs": [],
   "source": [
    "purchases = [(1, \"car\"), (1, \"hotel\"), (1, \"smartphone\"), \n",
    "             (1, \"laptop\"), (2, \"TV\"), (2, \"car\"), \n",
    "             (3, \"laptop\"), (3, \"laptop\"), (3, \"hotel\")]\n",
    "\n",
    "purchases_rdd = sc.parallelize(purchases, 2)\n",
    "\n",
    "reduce_key_rdd = purchases_rdd.reduceByKey(lambda x, y: x + \" \" + y)\n",
    "\n",
    "reduce_key_rdd.collect()"
   ]
  },
  {
   "cell_type": "markdown",
   "metadata": {},
   "source": [
    "<b>foldByKey</b>"
   ]
  },
  {
   "cell_type": "code",
   "execution_count": null,
   "metadata": {
    "collapsed": true
   },
   "outputs": [],
   "source": []
  },
  {
   "cell_type": "markdown",
   "metadata": {},
   "source": [
    "<b>distinct</b>"
   ]
  },
  {
   "cell_type": "code",
   "execution_count": null,
   "metadata": {
    "collapsed": true
   },
   "outputs": [],
   "source": [
    "persons = [(1, \"Ivanov\"), (2, \"Petrov\"), (3, \"Jamson\"), (4, \"Black\"), (4, \"Black\")]\n",
    "persons_rdd = sc.parallelize(persons, 2)\n",
    "\n",
    "map_rdd = persons_rdd.distinct()\n",
    "map_rdd.collect()"
   ]
  },
  {
   "cell_type": "markdown",
   "metadata": {},
   "source": [
    "<b>keys</b>"
   ]
  },
  {
   "cell_type": "code",
   "execution_count": null,
   "metadata": {
    "collapsed": false
   },
   "outputs": [],
   "source": [
    "data = [(\"f\", 2), (\"a\", 3), (\"h\", 5), (\"b\", 6), (\"c\", 1)]\n",
    "\n",
    "data_rdd = sc.parallelize(data)\n",
    "\n",
    "data_keys_rdd = data_rdd.keys()\n",
    "data_keys_rdd.collect()"
   ]
  },
  {
   "cell_type": "markdown",
   "metadata": {},
   "source": [
    "<b>values</b>"
   ]
  },
  {
   "cell_type": "code",
   "execution_count": null,
   "metadata": {
    "collapsed": true
   },
   "outputs": [],
   "source": [
    "data = [(\"f\", 2), (\"a\", 3), (\"h\", 5), (\"b\", 6), (\"c\", 1)]\n",
    "\n",
    "data_rdd = sc.parallelize(data)\n",
    "\n",
    "data_values_rdd = data_rdd.values()\n",
    "data_values_rdd.collect()"
   ]
  },
  {
   "cell_type": "markdown",
   "metadata": {},
   "source": [
    "<b>mapValues</b>"
   ]
  },
  {
   "cell_type": "code",
   "execution_count": null,
   "metadata": {
    "collapsed": false
   },
   "outputs": [],
   "source": [
    "data = [(\"f\", 2), (\"a\", 3), (\"h\", 5), (\"b\", 6), (\"c\", 1)]\n",
    "\n",
    "data_rdd = sc.parallelize(data)\n",
    "data_mapValue_rdd = data_rdd.mapValues(lambda x: x + 10)\n",
    "data_mapValue_rdd.collect()"
   ]
  },
  {
   "cell_type": "markdown",
   "metadata": {},
   "source": [
    "<b>flatMapValues</b>"
   ]
  },
  {
   "cell_type": "code",
   "execution_count": null,
   "metadata": {
    "collapsed": false
   },
   "outputs": [],
   "source": [
    "data = [(\"f\", [2, 1]), (\"a\", [3,1]), (\"h\", [3,4,5]), (\"b\", [6]), (\"c\", [1])]\n",
    "\n",
    "data_rdd = sc.parallelize(data)\n",
    "data_mapValue_rdd = data_rdd.flatMapValues(lambda x: x)\n",
    "data_mapValue_rdd.collect()"
   ]
  },
  {
   "cell_type": "markdown",
   "metadata": {},
   "source": [
    "<b>join</b>"
   ]
  },
  {
   "cell_type": "code",
   "execution_count": null,
   "metadata": {
    "collapsed": false
   },
   "outputs": [],
   "source": [
    "persons = [(1, \"Ivanov\"), (2, \"Petrov\"), (3, \"Jamson\"), (4, \"Black\")]\n",
    "purchases = [(1, \"car\"), (1, \"hotel\"), (1, \"smartphone\"), (1, \"laptop\"), (2, \"TV\"), \n",
    "             (2, \"car\"), (3, \"laptop\"), (3, \"laptop\"), (3, \"hotel\"), (5, \"TV\")]\n",
    "\n",
    "persons_rdd = sc.parallelize(persons, 2)\n",
    "purchases_rdd = sc.parallelize(purchases, 4)\n",
    "\n",
    "join_rdd = persons_rdd.join(purchases_rdd, numPartitions=2)\n",
    "join_rdd.collect()"
   ]
  },
  {
   "cell_type": "code",
   "execution_count": null,
   "metadata": {
    "collapsed": false
   },
   "outputs": [],
   "source": [
    "join_left_rdd = persons_rdd.leftOuterJoin(purchases_rdd, numPartitions=2)\n",
    "join_left_rdd.collect()"
   ]
  },
  {
   "cell_type": "code",
   "execution_count": null,
   "metadata": {
    "collapsed": false
   },
   "outputs": [],
   "source": [
    "join_right_rdd = persons_rdd.rightOuterJoin(purchases_rdd, numPartitions=2)\n",
    "join_right_rdd.collect()"
   ]
  },
  {
   "cell_type": "markdown",
   "metadata": {},
   "source": [
    "<b>cogroup</b>"
   ]
  },
  {
   "cell_type": "code",
   "execution_count": null,
   "metadata": {
    "collapsed": false
   },
   "outputs": [],
   "source": [
    "persons = [(1, \"Ivanov\"), (2, \"Petrov\"), (3, \"Jamson\"), (4, \"Black\")]\n",
    "purchases = [(1, \"car\"), (1, \"hotel\"), (1, \"smartphone\"), (1, \"laptop\"), (2, \"TV\"), \n",
    "             (2, \"car\"), (3, \"laptop\"), (3, \"laptop\"), (3, \"hotel\"), (5, \"TV\")]\n",
    "\n",
    "cogroup_rdd = persons_rdd.cogroup(purchases_rdd, numPartitions=2)\n",
    "\n",
    "cogroup_rdd.collect()"
   ]
  },
  {
   "cell_type": "code",
   "execution_count": null,
   "metadata": {
    "collapsed": false
   },
   "outputs": [],
   "source": [
    "[(k, [list(el) for el in v]) for k, v in cogroup_rdd.collect()]"
   ]
  },
  {
   "cell_type": "markdown",
   "metadata": {},
   "source": [
    "<b>partitionBy</b>"
   ]
  },
  {
   "cell_type": "code",
   "execution_count": null,
   "metadata": {
    "collapsed": false
   },
   "outputs": [],
   "source": [
    "purchases_price = [(\"car\", 1), (\"hotel\", 2), (\"smartphone\", 2), (\"laptop\", 3), (\"TV\", 4), \n",
    "                   (\"car\", 2), (\"laptop\", 1), (\"laptop\", 3), (\"hotel\", 1)]\n",
    "purchases_price_rdd = sc.parallelize(purchases_price, 2)\n",
    "\n",
    "purchases_price_rdd.glom().collect()"
   ]
  },
  {
   "cell_type": "code",
   "execution_count": null,
   "metadata": {
    "collapsed": false
   },
   "outputs": [],
   "source": [
    "part_rdd = purchases_price_rdd.partitionBy(2)\n",
    "part_rdd.glom().collect()"
   ]
  },
  {
   "cell_type": "markdown",
   "metadata": {},
   "source": [
    "<b>aggregateByKey</b>"
   ]
  },
  {
   "cell_type": "code",
   "execution_count": null,
   "metadata": {
    "collapsed": true
   },
   "outputs": [],
   "source": [
    "pers_purchases = [(\"car\", 1), (\"hotel\", 2), (\"smartphone\", 2), \n",
    "                  (\"laptop\", 3), (\"TV\", 4), (\"car\", 2), \n",
    "                  (\"laptop\", 1), (\"laptop\", 3), (\"hotel\", 1)]\n",
    "\n",
    "pers_purchases_rdd = sc.parallelize(pers_purchases, 4)\n",
    "\n",
    "agg_key_rdd = pers_purchases_rdd.aggregateByKey((0, 0), \n",
    "                                                (lambda x, value: (x[0] + value, x[1] + 1)), \n",
    "                                                (lambda x, y: (x[0] + y[0], x[1] + y[1])))\n",
    "agg_key_rdd.collect()"
   ]
  },
  {
   "cell_type": "markdown",
   "metadata": {},
   "source": [
    "<b>combineByKey</b>"
   ]
  },
  {
   "cell_type": "code",
   "execution_count": null,
   "metadata": {
    "collapsed": false
   },
   "outputs": [],
   "source": [
    "purchases_price = [(\"car\", 1.0), (\"hotel\", 2.0), (\"smartphone\", 2.0), \n",
    "                   (\"laptop\", 3.0), (\"TV\", 4.0), (\"car\", 2.0), \n",
    "                   (\"laptop\", 1.0), (\"laptop\", 3.0), (\"hotel\", 1.0)]\n",
    "\n",
    "purchases_price_rdd = sc.parallelize(purchases_price, 4).persist()\n",
    "\n",
    "purchases_price_rdd.glom().collect()"
   ]
  },
  {
   "cell_type": "code",
   "execution_count": null,
   "metadata": {
    "collapsed": false
   },
   "outputs": [],
   "source": [
    "combine_key_rdd = purchases_price_rdd.combineByKey((lambda value: (value, 1)), \n",
    "                                                  (lambda x, value: (x[0] + value, x[1] + 1)), \n",
    "                                                  (lambda x, y: (x[0] + y[0], x[1] + y[1])))\n",
    "combine_key_rdd.collect()"
   ]
  },
  {
   "cell_type": "code",
   "execution_count": null,
   "metadata": {
    "collapsed": true
   },
   "outputs": [],
   "source": [
    "combine_key_rdd = purchases_price_rdd.combineByKey((lambda value: (value, 2)), \n",
    "                                                  (lambda x, value: (x[0] + value, x[1] + 1)), \n",
    "                                                  (lambda x, y: (x[0] + y[0], x[1] + y[1])))\n",
    "combine_key_rdd.collect()"
   ]
  },
  {
   "cell_type": "markdown",
   "metadata": {},
   "source": [
    "<b>sortByKey</b>"
   ]
  },
  {
   "cell_type": "code",
   "execution_count": null,
   "metadata": {
    "collapsed": true
   },
   "outputs": [],
   "source": [
    "data = [(\"f\", 2), (\"a\", 3), (\"h\", 5), (\"b\", 6), (\"c\", 1)]\n",
    "\n",
    "data_rdd = sc.parallelize(data)\n",
    "\n",
    "data_sortbykey_rdd = data_rdd.sortByKey(ascending=True, numPartitions=3)\n",
    "data_sortbykey_rdd.collect()"
   ]
  },
  {
   "cell_type": "markdown",
   "metadata": {},
   "source": [
    "<b>sortBy</b>"
   ]
  },
  {
   "cell_type": "code",
   "execution_count": null,
   "metadata": {
    "collapsed": true
   },
   "outputs": [],
   "source": [
    "data = [(\"f\", 2), (\"a\", 3), (\"h\", 5), (\"b\", 6), (\"c\", 1)]\n",
    "\n",
    "data_rdd = sc.parallelize(data)\n",
    "\n",
    "data_sortby_rdd = data_rdd.sortBy(lambda x: x[0], ascending=True, numPartitions=3)\n",
    "data_sortby_rdd.collect()"
   ]
  },
  {
   "cell_type": "code",
   "execution_count": null,
   "metadata": {
    "collapsed": true
   },
   "outputs": [],
   "source": [
    "data_sortby_rdd = data_rdd.sortBy(lambda x: x[1], ascending=True, numPartitions=3)\n",
    "data_sortby_rdd.collect()"
   ]
  },
  {
   "cell_type": "markdown",
   "metadata": {
    "collapsed": true
   },
   "source": [
    "<a name = \"2b\"></a>\n",
    "<div style = \"display:table; width:100%\">\n",
    "    <div style = \"display:table-row\">\n",
    "        <div style = \"display:table-cell; width:80%; font-style:italic; font-weight:bold; font-size:12pt\">\n",
    "            b. Действия\n",
    "        </div>\n",
    "        <div style=\"display:table-cell; border:1px solid lightgrey; width:20%\">\n",
    "            <div style = \"display:table-cell; width:10%; text-align:center; background-color:whitesmoke;\">\n",
    "                <a href=\"#2a\">Назад</a>\n",
    "            </div>\n",
    "            <div style = \"display:table-cell; width:10%; text-align:center;\">\n",
    "                <a href=\"#2c\">Далее</a>\n",
    "            </div>\n",
    "        </div>\n",
    "    </div>\n",
    "</div>"
   ]
  },
  {
   "cell_type": "markdown",
   "metadata": {},
   "source": [
    "<b>countByKey</b>"
   ]
  },
  {
   "cell_type": "code",
   "execution_count": null,
   "metadata": {
    "collapsed": true
   },
   "outputs": [],
   "source": [
    "purchases = [(1, \"car\"), (1, \"hotel\"), (1, \"smartphone\"), \n",
    "             (1, \"laptop\"), (2, \"TV\"), (2, \"car\"), \n",
    "             (3, \"laptop\"), (3, \"laptop\"), (3, \"hotel\")]\n",
    "\n",
    "purchases_rdd = sc.parallelize(purchases, 2)\n",
    "\n",
    "count_key = purchases_rdd.countByKey()\n",
    "\n",
    "count_key"
   ]
  },
  {
   "cell_type": "markdown",
   "metadata": {},
   "source": [
    "<b>takeOrdered</b>"
   ]
  },
  {
   "cell_type": "code",
   "execution_count": null,
   "metadata": {
    "collapsed": true
   },
   "outputs": [],
   "source": [
    "data = [(\"f\", 2), (\"a\", 3), (\"h\", 5), (\"b\", 6), (\"c\", 1)]\n",
    "\n",
    "data_rdd = sc.parallelize(data)\n",
    "take_ordered = data_rdd.takeOrdered(5, key = lambda x: -x[1])\n",
    "take_ordered"
   ]
  },
  {
   "cell_type": "markdown",
   "metadata": {},
   "source": [
    "<a name = \"2c\"></a>\n",
    "<div style = \"display:table; width:100%\">\n",
    "    <div style = \"display:table-row\">\n",
    "        <div style = \"display:table-cell; width:80%; font-style:italic; font-weight:bold; font-size:12pt\">\n",
    "            c. Примеры\n",
    "        </div>\n",
    "        <div style=\"display:table-cell; border:1px solid lightgrey; width:20%\">\n",
    "            <div style = \"display:table-cell; width:10%; text-align:center; background-color:whitesmoke;\">\n",
    "                <a href=\"#2b\">Назад</a>\n",
    "            </div>\n",
    "            <div style = \"display:table-cell; width:10%; text-align:center;\">\n",
    "                <a href=\"#3\">Далее</a>\n",
    "            </div>\n",
    "        </div>\n",
    "    </div>\n",
    "</div>"
   ]
  },
  {
   "cell_type": "code",
   "execution_count": null,
   "metadata": {
    "collapsed": true
   },
   "outputs": [],
   "source": []
  },
  {
   "cell_type": "markdown",
   "metadata": {},
   "source": [
    "<a name=\"3\"></a>\n",
    "<div style=\"display:table; width:100%; padding-top:10px; padding-bottom:10px; border-bottom:1px solid lightgrey\">\n",
    "    <div style=\"display:table-row\">\n",
    "        <div style=\"display:table-cell; width:80%; font-size:14pt; font-weight:bold\">3. Источники</div>\n",
    "    \t<div style=\"display:table-cell; width:20%; text-align:center; background-color:whitesmoke; border:1px solid lightgrey\"><a href=\"#0\">К содержанию</a></div>\n",
    "    </div>\n",
    "</div>"
   ]
  },
  {
   "cell_type": "markdown",
   "metadata": {},
   "source": [
    "<a href=\"http://spark.apache.org/docs/latest/api/python/pyspark.html#module-pyspark\">pyspark package</a><br>\n",
    "<a href=\"http://spark.apache.org/docs/latest/programming-guide.html\">Spark Programming Guide</a>"
   ]
  },
  {
   "cell_type": "code",
   "execution_count": null,
   "metadata": {
    "collapsed": true
   },
   "outputs": [],
   "source": []
  }
 ],
 "metadata": {
  "kernelspec": {
   "display_name": "Python 3",
   "language": "python",
   "name": "python3"
  },
  "language_info": {
   "codemirror_mode": {
    "name": "ipython",
    "version": 3
   },
   "file_extension": ".py",
   "mimetype": "text/x-python",
   "name": "python",
   "nbconvert_exporter": "python",
   "pygments_lexer": "ipython3",
   "version": "3.5.1"
  },
  "widgets": {
   "state": {},
   "version": "1.1.2"
  }
 },
 "nbformat": 4,
 "nbformat_minor": 0
}
