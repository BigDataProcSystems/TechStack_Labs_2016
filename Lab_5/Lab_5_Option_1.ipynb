{
 "cells": [
  {
   "cell_type": "markdown",
   "metadata": {},
   "source": [
    "<div style=\"font-size:18pt; padding-top:20px; text-align:center\"><b>Лабораторная работа 5.</b> Разработка и запуск Storm приложений</div><hr>\n",
    "<div style=\"text-align:right;\">Папулин С.Ю. <span style=\"font-style: italic;font-weight: bold;\">(papulin_bmstu@mail.ru)</span></div>"
   ]
  },
  {
   "cell_type": "markdown",
   "metadata": {},
   "source": [
    "<a name=\"0\"></a>\n",
    "<div><span style=\"font-size:14pt; font-weight:bold\">Содержание</span>\n",
    "    <ol>\n",
    "        <li><a href=\"#1\">Разработка приложений Strom с ипользованием IDE Eclipse</a>\n",
    "            <ol style = \"list-style-type:lower-alpha\">\n",
    "                <li><a href=\"#1a\">Исходный код программы</a></li>\n",
    "                <li><a href=\"#1b\">Запуск проекта</a></li>\n",
    "            </ol>\n",
    "        </li>\n",
    "        <li><a href=\"#2\">Запуск приложения Storm</a>\n",
    "            <ol style = \"list-style-type:lower-alpha\">\n",
    "                <li><a href=\"#2a\">Запуск на локальной версии</a></li>\n",
    "                <li><a href=\"#2b\">Запуск на кластере AWS</a></li>\n",
    "                <li><a href=\"#2c\">Запуск на кластере HDInsight Azure</a></li>\n",
    "            </ol>\n",
    "        </li>\n",
    "        <li><a href=\"#5\">Источники</a>\n",
    "        </li>\n",
    "    </ol>\n",
    "</div>"
   ]
  },
  {
   "cell_type": "markdown",
   "metadata": {},
   "source": [
    "<div>\n",
    "    <p><b>Цель лабораторной работы</b> - освоить:</p>\n",
    "    <ol>\n",
    "        <li>создание проектов Storm с использованием среды разработки Eclipse</li>\n",
    "        <li>запуск приложений Storm на кластере</li>\n",
    "        <li>подключение к средствам мониторинга ресурсов Storm UI кластер</li>\n",
    "    </ol>\n",
    "    <p><b>Необходимые средства и схема подключения</b></p>\n",
    "    <img src=\"img/structure_tools.png\" alt=\"Tools for Lab 2\" width=\"60%\" style=\"max-width:500px;\">\n",
    "</div>"
   ]
  },
  {
   "cell_type": "markdown",
   "metadata": {},
   "source": [
    "<a name=\"1\"></a>\n",
    "<div style=\"display:table; width:100%; padding-top:10px; padding-bottom:10px; border-bottom:1px solid lightgrey\">\n",
    "    <div style=\"display:table-row\">\n",
    "        <div style=\"display:table-cell; width:80%; font-size:14pt; font-weight:bold\">1. Разработка приложений Storm с ипользованием IDE Eclipse</div>\n",
    "    \t<div style=\"display:table-cell; width:20%; text-align:center; background-color:whitesmoke; border:1px solid lightgrey\"><a href=\"#0\">К содержанию</a></div>\n",
    "    </div>\n",
    "</div>"
   ]
  },
  {
   "cell_type": "markdown",
   "metadata": {},
   "source": [
    "<a name = \"1a\"></a>\n",
    "<div style = \"display:table; width:100%\">\n",
    "    <div style = \"display:table-row\">\n",
    "        <div style = \"display:table-cell; width:80%; font-style:italic; font-weight:bold; font-size:12pt\">\n",
    "            a. Исходный код программы\n",
    "        </div>\n",
    "        <div style=\"display:table-cell; border:1px solid lightgrey; width:20%\">\n",
    "            <div style = \"display:table-cell; width:10%; text-align:center; background-color:whitesmoke;\">\n",
    "                <a href=\"#1\">Назад</a>\n",
    "            </div>\n",
    "            <div style = \"display:table-cell; width:10%; text-align:center;\">\n",
    "                <a href=\"#1b\">Далее</a>\n",
    "            </div>\n",
    "        </div>\n",
    "    </div>\n",
    "</div>"
   ]
  },
  {
   "cell_type": "markdown",
   "metadata": {},
   "source": [
    "<p>WordCountTopology</p>"
   ]
  },
  {
   "cell_type": "markdown",
   "metadata": {},
   "source": [
    "https://github.com/nathanmarz/storm-starter/blob/master/src/jvm/storm/starter/WordCountTopology.java"
   ]
  },
  {
   "cell_type": "code",
   "execution_count": null,
   "metadata": {
    "collapsed": true
   },
   "outputs": [],
   "source": [
    "package storm.starter;\n",
    "\n",
    "import backtype.storm.Config;\n",
    "import backtype.storm.LocalCluster;\n",
    "import backtype.storm.StormSubmitter;\n",
    "import backtype.storm.task.ShellBolt;\n",
    "import backtype.storm.topology.BasicOutputCollector;\n",
    "import backtype.storm.topology.IRichBolt;\n",
    "import backtype.storm.topology.OutputFieldsDeclarer;\n",
    "import backtype.storm.topology.TopologyBuilder;\n",
    "import backtype.storm.topology.base.BaseBasicBolt;\n",
    "import backtype.storm.tuple.Fields;\n",
    "import backtype.storm.tuple.Tuple;\n",
    "import backtype.storm.tuple.Values;\n",
    "import storm.starter.spout.RandomSentenceSpout;\n",
    "\n",
    "import java.util.HashMap;\n",
    "import java.util.Map;\n",
    "\n",
    "/**\n",
    " * This topology demonstrates Storm's stream groupings and multilang capabilities.\n",
    " */\n",
    "public class WordCountTopology {\n",
    "  public static class SplitSentence extends ShellBolt implements IRichBolt {\n",
    "\n",
    "    public SplitSentence() {\n",
    "      super(\"python\", \"splitsentence.py\");\n",
    "    }\n",
    "\n",
    "    @Override\n",
    "    public void declareOutputFields(OutputFieldsDeclarer declarer) {\n",
    "      declarer.declare(new Fields(\"word\"));\n",
    "    }\n",
    "\n",
    "    @Override\n",
    "    public Map<String, Object> getComponentConfiguration() {\n",
    "      return null;\n",
    "    }\n",
    "  }\n",
    "\n",
    "  public static class WordCount extends BaseBasicBolt {\n",
    "    Map<String, Integer> counts = new HashMap<String, Integer>();\n",
    "\n",
    "    @Override\n",
    "    public void execute(Tuple tuple, BasicOutputCollector collector) {\n",
    "      String word = tuple.getString(0);\n",
    "      Integer count = counts.get(word);\n",
    "      if (count == null)\n",
    "        count = 0;\n",
    "      count++;\n",
    "      counts.put(word, count);\n",
    "      collector.emit(new Values(word, count));\n",
    "    }\n",
    "\n",
    "    @Override\n",
    "    public void declareOutputFields(OutputFieldsDeclarer declarer) {\n",
    "      declarer.declare(new Fields(\"word\", \"count\"));\n",
    "    }\n",
    "  }\n",
    "\n",
    "  public static void main(String[] args) throws Exception {\n",
    "\n",
    "    TopologyBuilder builder = new TopologyBuilder();\n",
    "\n",
    "    builder.setSpout(\"spout\", new RandomSentenceSpout(), 5);\n",
    "\n",
    "    builder.setBolt(\"split\", new SplitSentence(), 8).shuffleGrouping(\"spout\");\n",
    "    builder.setBolt(\"count\", new WordCount(), 12).fieldsGrouping(\"split\", new Fields(\"word\"));\n",
    "\n",
    "    Config conf = new Config();\n",
    "    conf.setDebug(true);\n",
    "\n",
    "\n",
    "    if (args != null && args.length > 0) {\n",
    "      conf.setNumWorkers(3);\n",
    "\n",
    "      StormSubmitter.submitTopology(args[0], conf, builder.createTopology());\n",
    "    }\n",
    "    else {\n",
    "      conf.setMaxTaskParallelism(3);\n",
    "\n",
    "      LocalCluster cluster = new LocalCluster();\n",
    "      cluster.submitTopology(\"word-count\", conf, builder.createTopology());\n",
    "\n",
    "      Thread.sleep(10000);\n",
    "\n",
    "      cluster.shutdown();\n",
    "    }\n",
    "  }\n",
    "}"
   ]
  },
  {
   "cell_type": "markdown",
   "metadata": {},
   "source": [
    "<p>RandomSentenceSpout</p>"
   ]
  },
  {
   "cell_type": "markdown",
   "metadata": {},
   "source": [
    "https://github.com/nathanmarz/storm-starter/blob/master/src/jvm/storm/starter/spout/RandomSentenceSpout.java"
   ]
  },
  {
   "cell_type": "code",
   "execution_count": null,
   "metadata": {
    "collapsed": true
   },
   "outputs": [],
   "source": [
    "package storm.starter.spout;\n",
    "\n",
    "import backtype.storm.spout.SpoutOutputCollector;\n",
    "import backtype.storm.task.TopologyContext;\n",
    "import backtype.storm.topology.OutputFieldsDeclarer;\n",
    "import backtype.storm.topology.base.BaseRichSpout;\n",
    "import backtype.storm.tuple.Fields;\n",
    "import backtype.storm.tuple.Values;\n",
    "import backtype.storm.utils.Utils;\n",
    "\n",
    "import java.util.Map;\n",
    "import java.util.Random;\n",
    "\n",
    "public class RandomSentenceSpout extends BaseRichSpout {\n",
    "  SpoutOutputCollector _collector;\n",
    "  Random _rand;\n",
    "\n",
    "\n",
    "  @Override\n",
    "  public void open(Map conf, TopologyContext context, SpoutOutputCollector collector) {\n",
    "    _collector = collector;\n",
    "    _rand = new Random();\n",
    "  }\n",
    "\n",
    "  @Override\n",
    "  public void nextTuple() {\n",
    "    Utils.sleep(100);\n",
    "    String[] sentences = new String[]{ \"the cow jumped over the moon\", \"an apple a day keeps the doctor away\",\n",
    "        \"four score and seven years ago\", \"snow white and the seven dwarfs\", \"i am at two with nature\" };\n",
    "    String sentence = sentences[_rand.nextInt(sentences.length)];\n",
    "    _collector.emit(new Values(sentence));\n",
    "  }\n",
    "\n",
    "  @Override\n",
    "  public void ack(Object id) {\n",
    "  }\n",
    "\n",
    "  @Override\n",
    "  public void fail(Object id) {\n",
    "  }\n",
    "\n",
    "  @Override\n",
    "  public void declareOutputFields(OutputFieldsDeclarer declarer) {\n",
    "    declarer.declare(new Fields(\"word\"));\n",
    "  }\n",
    "\n",
    "}"
   ]
  },
  {
   "cell_type": "markdown",
   "metadata": {},
   "source": [
    "<a name = \"1b\"></a>\n",
    "<div style = \"display:table; width:100%\">\n",
    "    <div style = \"display:table-row\">\n",
    "        <div style = \"display:table-cell; width:80%; font-style:italic; font-weight:bold; font-size:12pt\">\n",
    "            b. Запуск проекта\n",
    "        </div>\n",
    "        <div style=\"display:table-cell; border:1px solid lightgrey; width:20%\">\n",
    "            <div style = \"display:table-cell; width:10%; text-align:center; background-color:whitesmoke;\">\n",
    "                <a href=\"#1\">Назад</a>\n",
    "            </div>\n",
    "            <div style = \"display:table-cell; width:10%; text-align:center;\">\n",
    "                <a href=\"#1b\">Далее</a>\n",
    "            </div>\n",
    "        </div>\n",
    "    </div>\n",
    "</div>"
   ]
  },
  {
   "cell_type": "markdown",
   "metadata": {},
   "source": [
    "<p>Самостоятельное добавлние пакетов Hadoop в проект</p>"
   ]
  },
  {
   "cell_type": "markdown",
   "metadata": {},
   "source": [
    "Java -> JAR <br>\n",
    "https://www.cs.utexas.edu/~scottm/cs307/handouts/Eclipse%20Help/jarInEclipse.htm"
   ]
  },
  {
   "cell_type": "markdown",
   "metadata": {},
   "source": [
    "Сборка зависимостей с использованием Maven"
   ]
  },
  {
   "cell_type": "markdown",
   "metadata": {},
   "source": [
    "http://tutorials.pcdhan.com/hadoop/developing-your-first-mapreduce-app-in-java-using-eclipse-and-maven/"
   ]
  },
  {
   "cell_type": "markdown",
   "metadata": {},
   "source": [
    "<a name=\"2\"></a>\n",
    "<div style=\"display:table; width:100%; padding-top:10px; padding-bottom:10px; border-bottom:1px solid lightgrey\">\n",
    "    <div style=\"display:table-row\">\n",
    "        <div style=\"display:table-cell; width:80%; font-size:14pt; font-weight:bold\">2. Запуск приложения Storm</div>\n",
    "    \t<div style=\"display:table-cell; width:20%; text-align:center; background-color:whitesmoke; border:1px solid lightgrey\"><a href=\"#0\">К содержанию</a></div>\n",
    "    </div>\n",
    "</div>"
   ]
  },
  {
   "cell_type": "markdown",
   "metadata": {},
   "source": [
    "<a name = \"2a\"></a>\n",
    "<div style = \"display:table; width:100%\">\n",
    "    <div style = \"display:table-row\">\n",
    "        <div style = \"display:table-cell; width:80%; font-style:italic; font-weight:bold; font-size:12pt\">\n",
    "            a. Запуск на локальной версии\n",
    "        </div>\n",
    "        <div style=\"display:table-cell; border:1px solid lightgrey; width:20%\">\n",
    "            <div style = \"display:table-cell; width:10%; text-align:center; background-color:whitesmoke;\">\n",
    "                <a href=\"#2\">Назад</a>\n",
    "            </div>\n",
    "            <div style = \"display:table-cell; width:10%; text-align:center;\">\n",
    "                <a href=\"#2b\">Далее</a>\n",
    "            </div>\n",
    "        </div>\n",
    "    </div>\n",
    "</div>"
   ]
  },
  {
   "cell_type": "markdown",
   "metadata": {},
   "source": [
    "<div>\n",
    "    <p><b>Схема подключения</b></p>\n",
    "    <img src=\"img/connection_cloudera.png\" alt=\"Tools for Lab 5\" width=\"30%\" style=\"max-width:300px;min-width:200px;\">\n",
    "</div>"
   ]
  },
  {
   "cell_type": "markdown",
   "metadata": {},
   "source": [
    "<p><b>Задание</b></p>"
   ]
  },
  {
   "cell_type": "markdown",
   "metadata": {},
   "source": [
    "<ol>\n",
    "    <li>Запуск локальной версии Storm</li>\n",
    "    <li>Запуск Storm приложения</li>\n",
    "    <li>Подключение к панели UI Storm для мониторинга выполнения</li>\n",
    "</ol>"
   ]
  },
  {
   "cell_type": "markdown",
   "metadata": {},
   "source": [
    "<a name = \"2b\"></a>\n",
    "<div style = \"display:table; width:100%\">\n",
    "    <div style = \"display:table-row\">\n",
    "        <div style = \"display:table-cell; width:80%; font-style:italic; font-weight:bold; font-size:12pt\">\n",
    "            b. Запуск на кластере EMR AWS  \n",
    "        </div>\n",
    "        <div style=\"display:table-cell; border:1px solid lightgrey; width:20%\">\n",
    "            <div style = \"display:table-cell; width:10%; text-align:center; background-color:whitesmoke;\">\n",
    "                <a href=\"#2a\">Назад</a>\n",
    "            </div>\n",
    "            <div style = \"display:table-cell; width:10%; text-align:center;\">\n",
    "                <a href=\"#2c\">Далее</a>\n",
    "            </div>\n",
    "        </div>\n",
    "    </div>\n",
    "</div>"
   ]
  },
  {
   "cell_type": "markdown",
   "metadata": {},
   "source": [
    "<div>\n",
    "    <p><b>Схема подключения</b></p>\n",
    "    <img src=\"img/connection_aws.png\" alt=\"Tools for Lab 5\" width=\"50%\" style=\"max-width:500px;min-width:300px;\">\n",
    "</div>\n",
    "</div>"
   ]
  },
  {
   "cell_type": "markdown",
   "metadata": {},
   "source": [
    "<p><b>Задание</b></p>"
   ]
  },
  {
   "cell_type": "markdown",
   "metadata": {},
   "source": [
    "<ol>\n",
    "    <li>Развертывание кластера EMR</li>\n",
    "    <li>Разверетывание Storm на AWS\n",
    "        <ul>\n",
    "            <li>http://storm.apache.org/about/deployment.html</li>\n",
    "            <li>https://github.com/nathanmarz/storm-deploy</li>\n",
    "        </ul>\n",
    "    </li>\n",
    "    <li>Запуск Storm приложения</li>\n",
    "    <li>Подключение к панели UI Storm для мониторинга выполнения</li>\n",
    "</ol>"
   ]
  },
  {
   "cell_type": "markdown",
   "metadata": {},
   "source": [
    "<a name = \"2с\"></a>\n",
    "<div style = \"display:table; width:100%\">\n",
    "    <div style = \"display:table-row\">\n",
    "        <div style = \"display:table-cell; width:80%; font-style:italic; font-weight:bold; font-size:12pt\">\n",
    "            с. Запуск на кластере HDInsight Azure  \n",
    "        </div>\n",
    "        <div style=\"display:table-cell; border:1px solid lightgrey; width:20%\">\n",
    "            <div style = \"display:table-cell; width:10%; text-align:center; background-color:whitesmoke;\">\n",
    "                <a href=\"#2b\">Назад</a>\n",
    "            </div>\n",
    "            <div style = \"display:table-cell; width:10%; text-align:center;\">\n",
    "                <a href=\"#3\">Далее</a>\n",
    "            </div>\n",
    "        </div>\n",
    "    </div>\n",
    "</div>"
   ]
  },
  {
   "cell_type": "markdown",
   "metadata": {},
   "source": [
    "<div>\n",
    "    <p><b>Схема подключения</b></p>\n",
    "    <img src=\"img/connection_aws.png\" alt=\"Tools for Lab 5\" width=\"50%\" style=\"max-width:500px;min-width:300px;\">\n",
    "</div>\n",
    "</div>"
   ]
  },
  {
   "cell_type": "markdown",
   "metadata": {},
   "source": [
    "<p><b>Задание</b></p>"
   ]
  },
  {
   "cell_type": "markdown",
   "metadata": {},
   "source": [
    "<ol>\n",
    "    <li>Развертывание кластера Storm на HDInsight Azure</li>\n",
    "    <li>Запуск Storm приложения</li>\n",
    "    <li>Подключение к панели UI Storm для мониторинга выполнения</li>\n",
    "</ol>"
   ]
  },
  {
   "cell_type": "markdown",
   "metadata": {
    "collapsed": true
   },
   "source": [
    "<a href=\"http://storm.apache.org/releases/1.0.0/Running-topologies-on-a-production-cluster.html\">Running Topologies on a Production Cluster</a><br>\n",
    "\n",
    "<a href=\"https://azure.microsoft.com/ru-ru/documentation/articles/hdinsight-apache-storm-tutorial-get-started/\">Учебник по Apache Storm в HDInsight: начало работы с анализом больших объемов данных в HDInsight с помощью примеров Storm Starter</a><br>\n",
    "\n",
    "<a href=\"https://azure.microsoft.com/en-us/documentation/articles/hdinsight-storm-deploy-monitor-topology-linux/\">Deploy and manage Apache Storm topologies on Linux-based HDInsight</a><br>\n",
    "\n",
    "<a href=\"https://azure.microsoft.com/ru-ru/documentation/articles/hdinsight-storm-develop-java-topology/\">Разработка топологий на основе Java для базовых приложений подсчета слов с помощью Apache Storm и Maven в HDInsight</a><br>\n",
    "\n",
    "<a href=\"https://azure.microsoft.com/ru-ru/documentation/articles/hdinsight-storm-twitter-trending/\">Определение популярных тем в Twitter с помощью Apache Storm в HDInsight</a>"
   ]
  },
  {
   "cell_type": "code",
   "execution_count": null,
   "metadata": {
    "collapsed": true
   },
   "outputs": [],
   "source": []
  }
 ],
 "metadata": {
  "kernelspec": {
   "display_name": "Python 3",
   "language": "python",
   "name": "python3"
  },
  "language_info": {
   "codemirror_mode": {
    "name": "ipython",
    "version": 3
   },
   "file_extension": ".py",
   "mimetype": "text/x-python",
   "name": "python",
   "nbconvert_exporter": "python",
   "pygments_lexer": "ipython3",
   "version": "3.5.2"
  }
 },
 "nbformat": 4,
 "nbformat_minor": 1
}
