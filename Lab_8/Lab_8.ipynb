{
 "cells": [
  {
   "cell_type": "markdown",
   "metadata": {},
   "source": [
    "<div style=\"font-size:18pt; padding-top:20px; text-align:center\"><b>Лабораторная работа 8.</b> Управление и хранение данных в HBase</div><hr>\n",
    "<div style=\"text-align:right;\">Папулин С.Ю. <span style=\"font-style: italic;font-weight: bold;\">(papulin.study@yandex.ru)</span></div>"
   ]
  },
  {
   "cell_type": "markdown",
   "metadata": {},
   "source": [
    "<a name=\"0\"></a>\n",
    "<div><span style=\"font-size:14pt; font-weight:bold\">Содержание</span>\n",
    "    <ol>\n",
    "        <li><a href=\"#1\">HBase и Cloudera</a>\n",
    "            <ol style = \"list-style-type:lower-alpha\">\n",
    "                <li><a href=\"#1a\">Интерактивная среда</a></li>\n",
    "                <li><a href=\"#1b\">Java API</a></li>\n",
    "            </ol>\n",
    "        </li>\n",
    "        <li><a href=\"#2\">HBase и AWS</a>\n",
    "        </li>\n",
    "        <li><a href=\"#3\">HBase и Azure</a>\n",
    "        </li>\n",
    "        <li><a href=\"#4\">Источники</a>\n",
    "        </li>\n",
    "    </ol>\n",
    "</div>"
   ]
  },
  {
   "cell_type": "code",
   "execution_count": 1,
   "metadata": {
    "collapsed": false
   },
   "outputs": [
    {
     "data": {
      "text/html": [
       "<link rel='stylesheet' href='css/style.css'>"
      ],
      "text/plain": [
       "<IPython.core.display.HTML object>"
      ]
     },
     "execution_count": 1,
     "metadata": {},
     "output_type": "execute_result"
    }
   ],
   "source": [
    "from IPython.core.display import HTML\n",
    "HTML(\"<link rel='stylesheet' href='css/style.css'>\")"
   ]
  },
  {
   "cell_type": "markdown",
   "metadata": {},
   "source": [
    "<a name=\"1\"></a>\n",
    "<div style=\"display:table; width:100%; padding-top:10px; padding-bottom:10px; border-bottom:1px solid lightgrey\">\n",
    "    <div style=\"display:table-row\">\n",
    "        <div style=\"display:table-cell; width:80%; font-size:14pt; font-weight:bold\">1. HBase и Cloudera</div>\n",
    "    \t<div style=\"display:table-cell; width:20%; text-align:center; background-color:whitesmoke; border:1px solid lightgrey\"><a href=\"#0\">К содержанию</a></div>\n",
    "    </div>\n",
    "</div>"
   ]
  },
  {
   "cell_type": "markdown",
   "metadata": {},
   "source": [
    "<a name = \"1a\"></a>\n",
    "<div style = \"display:table; width:100%\">\n",
    "    <div style = \"display:table-row\">\n",
    "        <div style = \"display:table-cell; width:80%; font-style:italic; font-weight:bold; font-size:12pt\">\n",
    "            a. Интерактивная среда\n",
    "        </div>\n",
    "        <div style=\"display:table-cell; border:1px solid lightgrey; width:20%\">\n",
    "            <div style = \"display:table-cell; width:10%; text-align:center; background-color:whitesmoke;\">\n",
    "                <a href=\"#1\">Назад</a>\n",
    "            </div>\n",
    "            <div style = \"display:table-cell; width:10%; text-align:center;\">\n",
    "                <a href=\"#1b\">Далее</a>\n",
    "            </div>\n",
    "        </div>\n",
    "    </div>\n",
    "</div>"
   ]
  },
  {
   "cell_type": "markdown",
   "metadata": {},
   "source": [
    "<div class=\"msg-block msg-info\">\n",
    "  <span class=\"msg-text-info\">Замечание! </span> <p> Краткое описание DDL (Data Definition Language) и DML (Data Manipulation Language) команд в <span class=\"code-font code-text-key\">HBase</span> можно найти <a href=\"https://www.tutorialspoint.com/hbase/hbase_shell.htm\">здесь</a></p>\n",
    "</div>"
   ]
  },
  {
   "cell_type": "markdown",
   "metadata": {},
   "source": [
    "<div class=\"msg-block msg-warning\">\n",
    "  <span class=\"msg-text-warn\">Предупреждение! </span>\n",
    "  <p>Перед удалением таблицы или модификацией её структуры используйте команду для отключения таблицы:</p>\n",
    "        <div class=\"code-block\"><p class=\"code-font\"><span class=\"code-key\">disable</span> \"table\"</p>\n",
    "        </div>\n",
    "        <p>Для активации таблицы используйте команду:</p>\n",
    "        <div class=\"code-block\"><p class=\"code-font\"><span class=\"code-key\">enable</span> \"table\"</p></div>\n",
    "</div>"
   ]
  },
  {
   "cell_type": "markdown",
   "metadata": {},
   "source": [
    "<p>Отобразите набор команд <span class=\"code-font code-text-key\">HBase</span></p>"
   ]
  },
  {
   "cell_type": "code",
   "execution_count": null,
   "metadata": {
    "collapsed": true
   },
   "outputs": [],
   "source": [
    "hbase"
   ]
  },
  {
   "cell_type": "markdown",
   "metadata": {},
   "source": [
    "<p>Выведите версию <span class=\"code-font code-text-key\">HBase</span></p>"
   ]
  },
  {
   "cell_type": "code",
   "execution_count": null,
   "metadata": {
    "collapsed": true
   },
   "outputs": [],
   "source": [
    "hbase version"
   ]
  },
  {
   "cell_type": "markdown",
   "metadata": {},
   "source": [
    "<p>Запустите <span class=\"code-font\">Master</span></p>"
   ]
  },
  {
   "cell_type": "code",
   "execution_count": null,
   "metadata": {
    "collapsed": true
   },
   "outputs": [],
   "source": [
    "hbase master"
   ]
  },
  {
   "cell_type": "markdown",
   "metadata": {},
   "source": [
    "<p>Запустите интерактивный режим</p>"
   ]
  },
  {
   "cell_type": "code",
   "execution_count": null,
   "metadata": {
    "collapsed": true
   },
   "outputs": [],
   "source": [
    "hbase shell"
   ]
  },
  {
   "cell_type": "markdown",
   "metadata": {},
   "source": [
    "<div class=\"msg-block msg-info\">\n",
    "  <span class=\"msg-text-info\">Замечание! </span> <p>Для выхода из интерактивного режима наберите в терминале: </p>\n",
    "  <div class=\"code-block\"><p class=\"code-font\"><span class=\"code-key\">quit</span></p></div>\n",
    "</div>"
   ]
  },
  {
   "cell_type": "markdown",
   "metadata": {},
   "source": [
    "<p>Выведите статус <span class=\"code-font code-text-key\">HBase</span></p>"
   ]
  },
  {
   "cell_type": "code",
   "execution_count": null,
   "metadata": {
    "collapsed": true
   },
   "outputs": [],
   "source": [
    "status\n",
    "status 'detailed'"
   ]
  },
  {
   "cell_type": "markdown",
   "metadata": {},
   "source": [
    "<p>Создайте таблицу <span class=\"code-font\" style=\"font-weight:bold;\">organization</span> с семействами столбцов <span class=\"code-font\" style=\"font-weight:bold;\">dev_depart</span>, <span class=\"code-font\" style=\"font-weight:bold;\">prod_depart</span> и <span class=\"code-font\" style=\"font-weight:bold;\">sale_depart</span></p>"
   ]
  },
  {
   "cell_type": "code",
   "execution_count": null,
   "metadata": {
    "collapsed": true
   },
   "outputs": [],
   "source": [
    "create \"organization\", \"dev_depart\", \"prod_depart\", \"sale_depart\""
   ]
  },
  {
   "cell_type": "markdown",
   "metadata": {},
   "source": [
    "<div class=\"msg-block msg-warning\">\n",
    "  <span class=\"msg-text-warn\">Предупреждение! </span>\n",
    "  <p>Если не запускается, то попробуйте команду для выхода HDFS из безопасного режима</p>\n",
    "      <div class=\"code-block\"><p class=\"code-font\"><span class=\"code-key\">hdfs</span> dfsadmin -safemode leave</p></div>\n",
    "</div>"
   ]
  },
  {
   "cell_type": "markdown",
   "metadata": {},
   "source": [
    "<p>Отобразите список всех таблиц</p>"
   ]
  },
  {
   "cell_type": "code",
   "execution_count": null,
   "metadata": {
    "collapsed": true
   },
   "outputs": [],
   "source": [
    "list"
   ]
  },
  {
   "cell_type": "markdown",
   "metadata": {},
   "source": [
    "<p>Выведите описание таблицы <span class=\"code-font\" style=\"font-weight:bold;\">organization</span></p>"
   ]
  },
  {
   "cell_type": "code",
   "execution_count": null,
   "metadata": {
    "collapsed": true
   },
   "outputs": [],
   "source": [
    "describe \"organization\""
   ]
  },
  {
   "cell_type": "markdown",
   "metadata": {},
   "source": [
    "<p>Добавьте данные с <span class=\"code-font\" style=\"font-weight:bold;\">id</span> равным 1</p>"
   ]
  },
  {
   "cell_type": "code",
   "execution_count": null,
   "metadata": {
    "collapsed": true
   },
   "outputs": [],
   "source": [
    "put \"organization\", 1, \"dev_depart:name\", \"Development Department\"\n",
    "put \"organization\", 1, \"dev_depart:emp_num\", 1000\n",
    "put \"organization\", 1, \"dev_depart:phone\", \"100-100-200\"\n",
    "put \"organization\", 1, \"sale_depart:name\", \"Sale Department\""
   ]
  },
  {
   "cell_type": "markdown",
   "metadata": {},
   "source": [
    "<p>Добавьте данные с <span class=\"code-font\" style=\"font-weight:bold;\">id</span> равным 2</p>"
   ]
  },
  {
   "cell_type": "code",
   "execution_count": null,
   "metadata": {
    "collapsed": true
   },
   "outputs": [],
   "source": [
    "put \"organization\", 2, \"dev_depart:name\", \"Development Department\"\n",
    "put \"organization\", 2, \"dev_depart:emp_num\", 100\n",
    "put \"organization\", 2, \"sale_depart:name\", \"Marketing Department\""
   ]
  },
  {
   "cell_type": "markdown",
   "metadata": {},
   "source": [
    "<p>Отобразите все данные таблицы <span class=\"code-font\" style=\"font-weight:bold;\">organization</span></p>"
   ]
  },
  {
   "cell_type": "code",
   "execution_count": null,
   "metadata": {
    "collapsed": true
   },
   "outputs": [],
   "source": [
    "scan \"organization\""
   ]
  },
  {
   "cell_type": "markdown",
   "metadata": {},
   "source": [
    "<p>Отобразите все значения столбца <span class=\"code-font\" style=\"font-weight:bold;\">dev_depart:name</span> таблицы <span class=\"code-font\" style=\"font-weight:bold;\">organization</span></p>"
   ]
  },
  {
   "cell_type": "code",
   "execution_count": null,
   "metadata": {
    "collapsed": true
   },
   "outputs": [],
   "source": [
    "scan \"organization\", {COLUMN => \"dev_depart:name\"}"
   ]
  },
  {
   "cell_type": "markdown",
   "metadata": {},
   "source": [
    "<p>Отобразите все значения столбцов <span class=\"code-font\" style=\"font-weight:bold;\">dev_depart:name</span> и <span class=\"code-font\" style=\"font-weight:bold;\">sale_depart:name</span> таблицы <span class=\"code-font\" style=\"font-weight:bold;\">organization</span></p>"
   ]
  },
  {
   "cell_type": "code",
   "execution_count": null,
   "metadata": {
    "collapsed": true
   },
   "outputs": [],
   "source": [
    "scan \"organization\", {COLUMN => [\"dev_depart:name\",\"sale_depart:name\"]"
   ]
  },
  {
   "cell_type": "markdown",
   "metadata": {},
   "source": [
    "</p>Выведите значения столбцов <span class=\"bold\">dev_depart:name</span> и <span class=\"bold\">sale_depart:name</span> таблицы company для тех строк, в которых присутствует в указанных столбцах подстрока \"department\" </p>"
   ]
  },
  {
   "cell_type": "code",
   "execution_count": null,
   "metadata": {
    "collapsed": true
   },
   "outputs": [],
   "source": [
    "scan \"organization\", {COLUMN => [\"dev_depart:name\",\"sale_depart:name\"], FILTER => \"ValueFilter(=, 'substring:department')\"}"
   ]
  },
  {
   "cell_type": "markdown",
   "metadata": {},
   "source": [
    "<p>Выведите все данные с <span class=\"bold\">id</span> равным 1</p>"
   ]
  },
  {
   "cell_type": "code",
   "execution_count": null,
   "metadata": {
    "collapsed": true
   },
   "outputs": [],
   "source": [
    "get \"organization\", 1"
   ]
  },
  {
   "cell_type": "markdown",
   "metadata": {},
   "source": [
    "<p>Выведите все данные с <span class=\"bold\">id</span> равным 1 и столбцом <span class=\"bold\">dev_depart:name</span></p>"
   ]
  },
  {
   "cell_type": "code",
   "execution_count": null,
   "metadata": {
    "collapsed": true
   },
   "outputs": [],
   "source": [
    "get \"organization\", 1, {COLUMN => \"dev_depart:name\"}"
   ]
  },
  {
   "cell_type": "markdown",
   "metadata": {},
   "source": [
    "<p>Измените семейство столбцов <span class=\"bold\">dev_depart</span> так, чтобы хранились три версии изменений</p>"
   ]
  },
  {
   "cell_type": "code",
   "execution_count": null,
   "metadata": {
    "collapsed": true
   },
   "outputs": [],
   "source": [
    "alter \"organization\", NAME => \"dev_depart\", VERSIONS => 3"
   ]
  },
  {
   "cell_type": "markdown",
   "metadata": {},
   "source": [
    "<p>Измените значение столбца <span class=\"bold\">emp_num</span> семейства <span class=\"bold\">dev_depart</span> для <span class=\"bold\">id</span> равного 1</p>"
   ]
  },
  {
   "cell_type": "code",
   "execution_count": null,
   "metadata": {
    "collapsed": false
   },
   "outputs": [],
   "source": [
    "put \"organization\", 1, \"dev_depart:emp_num\", 1200"
   ]
  },
  {
   "cell_type": "markdown",
   "metadata": {},
   "source": [
    "<p>Отобразите все версии данных с <span class=\"bold\">id</span> равным 1 и столбцом <span class=\"bold\">dev_depart:name</span></p>"
   ]
  },
  {
   "cell_type": "code",
   "execution_count": null,
   "metadata": {
    "collapsed": true
   },
   "outputs": [],
   "source": [
    "get \"organization\", 1, {COLUMN => \"dev_depart:emp_num\", VERSIONS => 3}"
   ]
  },
  {
   "cell_type": "markdown",
   "metadata": {},
   "source": [
    "<p>Выведите столбцы <span class=\"bold\">dev_depart:name</span> и <span class=\"bold\">dev_depart:emp_num</span> с <span class=\"bold\">id</span> раным 1 </p>"
   ]
  },
  {
   "cell_type": "code",
   "execution_count": null,
   "metadata": {
    "collapsed": true
   },
   "outputs": [],
   "source": [
    "get \"organization\", 1, {COLUMN => [\"dev_depart:name\",\"dev_depart:emp_num\"], VERSIONS => 3}"
   ]
  },
  {
   "cell_type": "markdown",
   "metadata": {},
   "source": [
    "<p>Удалите ячейку с <span class=\"bold\">id</span> равным одному и столбцом <span class=\"bold\">dev_depart:phone</span></p>"
   ]
  },
  {
   "cell_type": "code",
   "execution_count": null,
   "metadata": {
    "collapsed": true
   },
   "outputs": [],
   "source": [
    "delete \"organization\", 1, \"dev_depart:phone\""
   ]
  },
  {
   "cell_type": "markdown",
   "metadata": {},
   "source": [
    "<p>Проверьте, что удалнение выполнилось</p>"
   ]
  },
  {
   "cell_type": "code",
   "execution_count": null,
   "metadata": {
    "collapsed": true
   },
   "outputs": [],
   "source": [
    "get \"organization\", 1"
   ]
  },
  {
   "cell_type": "markdown",
   "metadata": {},
   "source": [
    "<p>Удалите строку с <span class=\"bold\">id</span> равным 2</p>"
   ]
  },
  {
   "cell_type": "code",
   "execution_count": null,
   "metadata": {
    "collapsed": true
   },
   "outputs": [],
   "source": [
    "deleteall \"organization\", 2"
   ]
  },
  {
   "cell_type": "markdown",
   "metadata": {},
   "source": [
    "<p>Добавьте новое семейство столбцов <span class=\"bold\">pr_depart</span></p>"
   ]
  },
  {
   "cell_type": "code",
   "execution_count": null,
   "metadata": {
    "collapsed": true
   },
   "outputs": [],
   "source": [
    "alter \"organization\", {NAME => \"pr_depart\", VERSIONS => 3}"
   ]
  },
  {
   "cell_type": "markdown",
   "metadata": {},
   "source": [
    "<p>Убедитесь, что <span class=\"bold\">pr_depart</span> было создано </p>"
   ]
  },
  {
   "cell_type": "code",
   "execution_count": null,
   "metadata": {
    "collapsed": true
   },
   "outputs": [],
   "source": [
    "describe \"organization\""
   ]
  },
  {
   "cell_type": "markdown",
   "metadata": {},
   "source": [
    "<p>Удалите семейство столбцов <span class=\"bold\">pr_depart</span></p>"
   ]
  },
  {
   "cell_type": "code",
   "execution_count": null,
   "metadata": {
    "collapsed": true
   },
   "outputs": [],
   "source": [
    "alter \"organization\", {NAME => \"pr_depart\", METHOD => \"delete\"}"
   ]
  },
  {
   "cell_type": "markdown",
   "metadata": {},
   "source": [
    "<p>Убедитесь, что <span class=\"bold\">pr_depart</span> было удалено</p>"
   ]
  },
  {
   "cell_type": "code",
   "execution_count": null,
   "metadata": {
    "collapsed": true
   },
   "outputs": [],
   "source": [
    "describe \"organization\""
   ]
  },
  {
   "cell_type": "markdown",
   "metadata": {
    "collapsed": true
   },
   "source": [
    "<p>Выйдите из интерактивной среды</p>"
   ]
  },
  {
   "cell_type": "code",
   "execution_count": null,
   "metadata": {
    "collapsed": true
   },
   "outputs": [],
   "source": [
    "quit"
   ]
  },
  {
   "cell_type": "markdown",
   "metadata": {},
   "source": [
    "<p>Запустите web-страницу кластера HBase</p>"
   ]
  },
  {
   "cell_type": "code",
   "execution_count": null,
   "metadata": {
    "collapsed": true
   },
   "outputs": [],
   "source": [
    "http://localhost:60010"
   ]
  },
  {
   "cell_type": "markdown",
   "metadata": {},
   "source": [
    "<a name = \"1b\"></a>\n",
    "<div style = \"display:table; width:100%\">\n",
    "    <div style = \"display:table-row\">\n",
    "        <div style = \"display:table-cell; width:80%; font-style:italic; font-weight:bold; font-size:12pt\">\n",
    "            a. Java API\n",
    "        </div>\n",
    "        <div style=\"display:table-cell; border:1px solid lightgrey; width:20%\">\n",
    "            <div style = \"display:table-cell; width:10%; text-align:center; background-color:whitesmoke;\">\n",
    "                <a href=\"#1a\">Назад</a>\n",
    "            </div>\n",
    "            <div style = \"display:table-cell; width:10%; text-align:center;\">\n",
    "                <a href=\"#2\">Далее</a>\n",
    "            </div>\n",
    "        </div>\n",
    "    </div>\n",
    "</div>"
   ]
  },
  {
   "cell_type": "code",
   "execution_count": null,
   "metadata": {
    "collapsed": true
   },
   "outputs": [],
   "source": []
  },
  {
   "cell_type": "markdown",
   "metadata": {},
   "source": [
    "<a name=\"4\"></a>\n",
    "<div style=\"display:table; width:100%; padding-top:10px; padding-bottom:10px; border-bottom:1px solid lightgrey\">\n",
    "    <div style=\"display:table-row\">\n",
    "        <div style=\"display:table-cell; width:80%; font-size:14pt; font-weight:bold\">4 Источники</div>\n",
    "    \t<div style=\"display:table-cell; width:20%; text-align:center; background-color:whitesmoke; border:1px solid lightgrey\"><a href=\"#0\">К содержанию</a></div>\n",
    "    </div>\n",
    "</div>"
   ]
  },
  {
   "cell_type": "code",
   "execution_count": null,
   "metadata": {
    "collapsed": true
   },
   "outputs": [],
   "source": [
    "http://hbase.apache.org/book.html#quickstart\n",
    "https://www.tutorialspoint.com/hbase/hbase_quick_guide.htm\n",
    "https://www.safaribooksonline.com/library/view/hbase-the-definitive/9781449314682/ch04.html\n",
    "\n",
    "http://www.guru99.com/hbase-shell-general-commands.html\n",
    "https://www.cloudera.com/documentation/enterprise/5-8-x/topics/admin_hbase_filtering.html\n",
    "https://learnhbase.wordpress.com/2013/03/02/hbase-shell-commands/\n",
    "https://www.cloudera.com/documentation/enterprise/5-2-x/topics/admin_writing_data_to_hbase.html\n",
    "    \n",
    "https://hbase.apache.org/book.html#hbase_apis"
   ]
  },
  {
   "cell_type": "code",
   "execution_count": null,
   "metadata": {
    "collapsed": true
   },
   "outputs": [],
   "source": [
    "https://drill.apache.org/docs/querying-hbase/"
   ]
  },
  {
   "cell_type": "code",
   "execution_count": null,
   "metadata": {
    "collapsed": true
   },
   "outputs": [],
   "source": [
    "http://stackoverflow.com/questions/11013197/scan-htable-rows-for-specific-column-value-using-hbase-shell\n",
    "http://www.cloudera.com/documentation/enterprise/5-2-x/topics/admin_hbase_filtering.html\n",
    "http://blog.cloudera.com/blog/2016/01/how-to-create-and-use-a-custom-formatter-in-the-apache-hbase-shell/"
   ]
  }
 ],
 "metadata": {
  "kernelspec": {
   "display_name": "Python 3",
   "language": "python",
   "name": "python3"
  },
  "language_info": {
   "codemirror_mode": {
    "name": "ipython",
    "version": 3
   },
   "file_extension": ".py",
   "mimetype": "text/x-python",
   "name": "python",
   "nbconvert_exporter": "python",
   "pygments_lexer": "ipython3",
   "version": "3.5.2"
  }
 },
 "nbformat": 4,
 "nbformat_minor": 2
}
